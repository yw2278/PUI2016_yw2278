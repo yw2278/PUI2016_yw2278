{
 "cells": [
  {
   "cell_type": "markdown",
   "metadata": {},
   "source": [
    "### imports"
   ]
  },
  {
   "cell_type": "code",
   "execution_count": 1,
   "metadata": {
    "collapsed": false
   },
   "outputs": [
    {
     "name": "stdout",
     "output_type": "stream",
     "text": [
      "Populating the interactive namespace from numpy and matplotlib\n"
     ]
    }
   ],
   "source": [
    "import numpy as np   # basic numeric module in python, for array and matrix computation\n",
    "import pandas as pd  # advanced numeric module, excels in data frame analysis\n",
    "import os\n",
    "import scipy.stats as stats\n",
    "import matplotlib.pyplot as plt  # for data visualization\n",
    "%pylab inline\n",
    "from mpl_toolkits.mplot3d import Axes3D  # for 3D plot\n",
    "import statsmodels.formula.api as smf    # for OLS regression\n",
    "#import matplotlib.mlab as mlab\n",
    "import math\n",
    "from scipy.stats import norm\n",
    "#from scipy import stats, integrate\n",
    "#import seaborn as sns"
   ]
  },
  {
   "cell_type": "markdown",
   "metadata": {},
   "source": [
    "### make sure PUI2016 exists"
   ]
  },
  {
   "cell_type": "code",
   "execution_count": 2,
   "metadata": {
    "collapsed": false
   },
   "outputs": [
    {
     "name": "stdout",
     "output_type": "stream",
     "text": [
      "/home/cusp/rav220/PUI2016\n",
      "/home/cusp/rav220/PUIdata\n"
     ]
    }
   ],
   "source": [
    "if os.getenv ('PUI2016') is None:\n",
    "    print (\"Must set env variable PUI2016\")\n",
    "print (os.getenv ('PUI2016'))\n",
    "print (os.getenv ('PUIDATA'))"
   ]
  },
  {
   "cell_type": "markdown",
   "metadata": {},
   "source": [
    "### function to download file"
   ]
  },
  {
   "cell_type": "code",
   "execution_count": 3,
   "metadata": {
    "collapsed": false
   },
   "outputs": [
    {
     "name": "stdout",
     "output_type": "stream",
     "text": [
      "ok?\n"
     ]
    }
   ],
   "source": [
    "def getCitiBikeCSV(datestring):\n",
    "    print (\"Downloading\", datestring)\n",
    "    # check if not already there\n",
    "    if not os.path.isfile(os.getenv(\"PUIDATA\") + \"/\" + datestring + \"-citibike-tripdata.csv\"):\n",
    "        if os.path.isfile(datestring + \"-citibike-tripdata.csv\"):\n",
    "            # if in the current dir just move it\n",
    "            if os.system(\"mv \" + datestring + \"-citibike-tripdata.csv \" + os.getenv(\"PUIDATA\")):\n",
    "                print (\"Error moving file...\")\n",
    "        # otherwise start looking for the zip file\n",
    "        else:\n",
    "            if not os.path.isfile(os.getenv(\"PUIDATA\") + \"/\" + datestring + \"-citibike-tripdata.zip\"):\n",
    "                if not os.path.isfile(datestring + \"-citibike-tripdata.zip\"):\n",
    "                    os.system(\"curl -O https://s3.amazonaws.com/tripdata/\" + datestring + \"-citibike-tripdata.zip\")\n",
    "                os.system(\"mv \" + datestring + \"-citibike-tripdata.zip \" + os.getenv(\"PUIDATA\"))\n",
    "            # unzip \n",
    "            os.system(\"unzip \" + os.getenv(\"PUIDATA\") + \"/\" + datestring + \"-citibike-tripdata.zip\")\n",
    "            if '2014' in datestring:\n",
    "                os.system(\"mv \" + datestring[:4] + '-' +  datestring[4:] + \n",
    "                          \"\\ -\\ Citi\\ Bike\\ trip\\ data.csv \" + datestring + \"-citibike-tripdata.csv\")\n",
    "                os.system(\"mv \" + datestring + \"-citibike-tripdata.csv \" + os.getenv(\"PUIDATA\"))\n",
    "    # one final check:\n",
    "    if not os.path.isfile(os.getenv(\"PUIDATA\") + \"/\" + datestring + \"-citibike-tripdata.csv\"):\n",
    "        print (\"The file is not there...\")\n",
    "\n",
    "    else:\n",
    "        print (\"File is in place...\")\n",
    "        \n",
    "print('ok?')"
   ]
  },
  {
   "cell_type": "markdown",
   "metadata": {},
   "source": [
    "### download file"
   ]
  },
  {
   "cell_type": "code",
   "execution_count": null,
   "metadata": {
    "collapsed": true
   },
   "outputs": [],
   "source": [
    "datestring = '201402'\n",
    "getCitiBikeCSV(datestring)"
   ]
  },
  {
   "cell_type": "markdown",
   "metadata": {},
   "source": [
    "### read file to dataframe"
   ]
  },
  {
   "cell_type": "code",
   "execution_count": 5,
   "metadata": {
    "collapsed": false
   },
   "outputs": [
    {
     "data": {
      "text/plain": [
       "224736"
      ]
     },
     "execution_count": 5,
     "metadata": {},
     "output_type": "execute_result"
    }
   ],
   "source": [
    "dataf = pd.read_csv(os.getenv(\"PUIDATA\") + \"/\" + datestring + '-citibike-tripdata.csv')\n",
    "len(dataf)"
   ]
  },
  {
   "cell_type": "code",
   "execution_count": 6,
   "metadata": {
    "collapsed": false
   },
   "outputs": [
    {
     "data": {
      "text/plain": [
       "Index([u'tripduration', u'starttime', u'stoptime', u'start station id',\n",
       "       u'start station name', u'start station latitude',\n",
       "       u'start station longitude', u'end station id', u'end station name',\n",
       "       u'end station latitude', u'end station longitude', u'bikeid',\n",
       "       u'usertype', u'birth year', u'gender'],\n",
       "      dtype='object')"
      ]
     },
     "execution_count": 6,
     "metadata": {},
     "output_type": "execute_result"
    }
   ],
   "source": [
    "dataf.columns"
   ]
  },
  {
   "cell_type": "markdown",
   "metadata": {},
   "source": [
    "### remove unecessary info"
   ]
  },
  {
   "cell_type": "code",
   "execution_count": 7,
   "metadata": {
    "collapsed": false
   },
   "outputs": [
    {
     "data": {
      "text/plain": [
       "Index([u'birth year', u'gender'], dtype='object')"
      ]
     },
     "execution_count": 7,
     "metadata": {},
     "output_type": "execute_result"
    }
   ],
   "source": [
    "# Remove uncessary info\n",
    "\n",
    "dataf.drop(['tripduration', 'starttime', 'stoptime', 'start station id',\n",
    "       'start station name', 'start station latitude',\n",
    "       'start station longitude', 'end station id', 'end station name',\n",
    "       'end station latitude', 'end station longitude', 'bikeid', 'usertype'], axis = 1, inplace = True)\n",
    "\n",
    "dataf = dataf[dataf['gender'] > 0]\n",
    "dataf.columns"
   ]
  },
  {
   "cell_type": "markdown",
   "metadata": {
    "collapsed": false
   },
   "source": [
    "### replace dataframe to convert items to integers (had problems otherwise)"
   ]
  },
  {
   "cell_type": "code",
   "execution_count": 8,
   "metadata": {
    "collapsed": false
   },
   "outputs": [
    {
     "data": {
      "text/plain": [
       "Index([u'age'], dtype='object')"
      ]
     },
     "execution_count": 8,
     "metadata": {},
     "output_type": "execute_result"
    }
   ],
   "source": [
    "# convert datframe items to integers (consistently ran into trouble here, but finally resolved)\n",
    "\n",
    "the_list = list(dataf['birth year'])\n",
    "\n",
    "for x in range(0,len(dataf)):\n",
    "    the_list[x] = 2016-float(the_list[x])\n",
    "    \n",
    "df = pd.DataFrame(the_list, columns=[\"age\"])\n",
    "\n",
    "df.columns"
   ]
  },
  {
   "cell_type": "code",
   "execution_count": 9,
   "metadata": {
    "collapsed": false
   },
   "outputs": [
    {
     "data": {
      "text/html": [
       "<div>\n",
       "<table border=\"1\" class=\"dataframe\">\n",
       "  <thead>\n",
       "    <tr style=\"text-align: right;\">\n",
       "      <th></th>\n",
       "      <th>age</th>\n",
       "    </tr>\n",
       "  </thead>\n",
       "  <tbody>\n",
       "    <tr>\n",
       "      <th>0</th>\n",
       "      <td>25.0</td>\n",
       "    </tr>\n",
       "    <tr>\n",
       "      <th>1</th>\n",
       "      <td>37.0</td>\n",
       "    </tr>\n",
       "    <tr>\n",
       "      <th>2</th>\n",
       "      <td>68.0</td>\n",
       "    </tr>\n",
       "  </tbody>\n",
       "</table>\n",
       "</div>"
      ],
      "text/plain": [
       "    age\n",
       "0  25.0\n",
       "1  37.0\n",
       "2  68.0"
      ]
     },
     "execution_count": 9,
     "metadata": {},
     "output_type": "execute_result"
    }
   ],
   "source": [
    "df.head(3)"
   ]
  },
  {
   "cell_type": "markdown",
   "metadata": {},
   "source": [
    "### plot and test normal distribution"
   ]
  },
  {
   "cell_type": "code",
   "execution_count": 10,
   "metadata": {
    "collapsed": false
   },
   "outputs": [
    {
     "name": "stdout",
     "output_type": "stream",
     "text": [
      "Gaussian KS Statistic: 0.0999940330074\n",
      "Gaussian KS PValue: 0.0\n",
      "\n",
      "Gaussian AD: AndersonResult(statistic=2793.4941205939976, critical_values=array([ 0.576,  0.656,  0.787,  0.918,  1.092]), significance_level=array([ 15. ,  10. ,   5. ,   2.5,   1. ]))\n"
     ]
    },
    {
     "data": {
      "image/png": "[encoded data removed]",
      "text/plain": [
       "<matplotlib.figure.Figure at 0x7f6c7f735c50>"
      ]
     },
     "metadata": {},
     "output_type": "display_data"
    }
   ],
   "source": [
    "#df = df.dropna\n",
    "\n",
    "ssort = sorted(df.age)\n",
    "u = np.mean(ssort)\n",
    "sd = np.std(ssort)\n",
    "vr = np.var(ssort)\n",
    "fit = stats.norm.pdf(ssort, u,sd)\n",
    "\n",
    "\n",
    "plt.hist(ssort,100,normed=1, label=\"Sample Dist\")\n",
    "\n",
    "plt.plot(ssort, fit, linewidth = 4, color = \"red\", label = 'Gaussian Fit')\n",
    "plt.ylabel('Normalized')\n",
    "plt.xlabel('Age')\n",
    "plt.legend()\n",
    "\n",
    "ks_stat_gaussian, ks_pvalue_gaussian = stats.kstest(ssort,'norm',args=(u,sd))\n",
    "AD_gaussian = stats.anderson(ssort, dist='norm')\n",
    "print \"Gaussian KS Statistic:\", ks_stat_gaussian\n",
    "print \"Gaussian KS PValue:\", ks_pvalue_gaussian\n",
    "print \"\"\n",
    "print \"Gaussian AD:\", AD_gaussian"
   ]
  },
  {
   "cell_type": "markdown",
   "metadata": {},
   "source": [
    "## N0:  Sample Distribution is not different from Normal Distribution (alpha >.05)\n",
    "## N0 is rejected:  P < 0.05 in under both tests (KS & AD)"
   ]
  },
  {
   "cell_type": "markdown",
   "metadata": {},
   "source": [
    "### plot and test Poisson dist:"
   ]
  },
  {
   "cell_type": "code",
   "execution_count": 11,
   "metadata": {
    "collapsed": false
   },
   "outputs": [
    {
     "name": "stdout",
     "output_type": "stream",
     "text": [
      "Two-Tail Poisson Distribution KS Statistic: 0.20036696406\n",
      "Two-Tail Poisson Distribution KS P-Value: 0.0\n",
      "One-Tail Poisson Distribution KS Statistic: 0.561856857637\n",
      "One-Tail Poisson Distribution KS P-Value: 0.0\n"
     ]
    },
    {
     "data": {
      "image/png": "[encoded data removed]",
      "text/plain": [
       "<matplotlib.figure.Figure at 0x7f6c74d72d90>"
      ]
     },
     "metadata": {},
     "output_type": "display_data"
    }
   ],
   "source": [
    "bins = np.arange(10, 99, 2)\n",
    "\n",
    "cs=df.age.groupby(pd.cut(df.age, bins)).agg([count_nonzero]).cumsum()\n",
    "\n",
    "rp = np.random.poisson(u,len(ssort))\n",
    "rpdf =pd.DataFrame(rp)\n",
    "rpdf.columns = ['ph']\n",
    "\n",
    "csp=rpdf.ph.groupby(pd.cut(rpdf.ph, bins)).agg([count_nonzero]).cumsum()\n",
    "\n",
    "plt.plot(bins[:-1] + 5, cs / cs.max(), label=\"Cummulative Sample Dist\")\n",
    "plt.plot(bins[:-1] + 5, csp / csp.max(), linewidth=4, color=\"red\", label='Poisson Fit')\n",
    "\n",
    "plt.ylabel(\"Normalized Cumulative Number\")\n",
    "plt.xlabel(\"Age\")\n",
    "plt.legend\n",
    "\n",
    "ks_stat_poisson, ks_pvalue_poisson= stats.ks_2samp(df.age,rpdf.ph)\n",
    "ks_stat_poisson_one, ks_pvalue_poisson_one = stats.kstest(ssort,'poisson',args=(u,sd))\n",
    "\n",
    "print \"Two-Tail Poisson Distribution KS Statistic:\", ks_stat_poisson\n",
    "print \"Two-Tail Poisson Distribution KS P-Value:\", ks_pvalue_poisson\n",
    "print \"One-Tail Poisson Distribution KS Statistic:\", ks_stat_poisson_one\n",
    "print \"One-Tail Poisson Distribution KS P-Value:\", ks_pvalue_poisson_one\n",
    "\n"
   ]
  },
  {
   "cell_type": "markdown",
   "metadata": {},
   "source": [
    "## N0:  Sample Poisson distribution is not different from Poisson distribution (alpha >.05)*\n",
    "## N0 is rejected:  P < 0.05 for KS test\n",
    "### * Poisson generated by random sampling\n"
   ]
  },
  {
   "cell_type": "markdown",
   "metadata": {
    "collapsed": true
   },
   "source": [
    "# Neither distribtion is a good fit (at least according to the tests conducted) and further investgation is required to identify one.  Perhaps base it off an existing study which explains age diffences wrt to physical fittness, lifestyle, etc. "
   ]
  },
  {
   "cell_type": "code",
   "execution_count": null,
   "metadata": {
    "collapsed": true
   },
   "outputs": [],
   "source": []
  }
 ],
 "metadata": {
  "kernelspec": {
   "display_name": "PUI2016_Python2",
   "language": "python",
   "name": "pui2016_python2"
  },
  "language_info": {
   "codemirror_mode": {
    "name": "ipython",
    "version": 2
   },
   "file_extension": ".py",
   "mimetype": "text/x-python",
   "name": "python",
   "nbconvert_exporter": "python",
   "pygments_lexer": "ipython2",
   "version": "2.7.12"
  }
 },
 "nbformat": 4,
 "nbformat_minor": 0
}
