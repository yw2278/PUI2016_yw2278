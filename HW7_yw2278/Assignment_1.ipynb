{
 "cells": [
  {
   "cell_type": "code",
   "execution_count": 2,
   "metadata": {
    "collapsed": false,
    "scrolled": true
   },
   "outputs": [
    {
     "name": "stderr",
     "output_type": "stream",
     "text": [
      "/opt/rh/anaconda/root/lib/python2.7/site-packages/pandas/computation/__init__.py:19: UserWarning: The installed version of numexpr 2.4.4 is not supported in pandas and will be not be used\n",
      "\n",
      "  UserWarning)\n",
      "ERROR:tornado.application:Exception in callback <functools.partial object at 0x7f8471c32b50>\n",
      "Traceback (most recent call last):\n",
      "  File \"/opt/rh/anaconda/root/lib/python2.7/site-packages/tornado/ioloop.py\", line 592, in _run_callback\n",
      "    ret = callback()\n",
      "  File \"/opt/rh/anaconda/root/lib/python2.7/site-packages/tornado/stack_context.py\", line 275, in null_wrapper\n",
      "    return fn(*args, **kwargs)\n",
      "  File \"/opt/rh/anaconda/root/lib/python2.7/site-packages/ipykernel/kernelbase.py\", line 242, in enter_eventloop\n",
      "    self.eventloop(self)\n",
      "  File \"/opt/rh/anaconda/root/lib/python2.7/site-packages/ipykernel/eventloops.py\", line 163, in loop_tk\n",
      "    kernel.timer = Timer(doi)\n",
      "  File \"/opt/rh/anaconda/root/lib/python2.7/site-packages/ipykernel/eventloops.py\", line 151, in __init__\n",
      "    self.app = Tk()\n",
      "  File \"/opt/rh/anaconda/root/lib/python2.7/lib-tk/Tkinter.py\", line 1814, in __init__\n",
      "    self.tk = _tkinter.create(screenName, baseName, className, interactive, wantobjects, useTk, sync, use)\n",
      "TclError: no display name and no $DISPLAY environment variable\n"
     ]
    }
   ],
   "source": [
    "import plotly \n",
    "import plotly.plotly as py\n",
    "import plotly.graph_objs as go\n",
    "import numpy as np\n",
    "import pylab as pl\n",
    "from plotly.graph_objs import *\n",
    "\n"
   ]
  },
  {
   "cell_type": "code",
   "execution_count": 3,
   "metadata": {
    "collapsed": false
   },
   "outputs": [],
   "source": [
    "x = np.linspace(1,100,200)\n",
    "y = 2*np.random.randn(200)+10\n",
    "z =  np.random.randn(200)"
   ]
  },
  {
   "cell_type": "code",
   "execution_count": 14,
   "metadata": {
    "collapsed": false
   },
   "outputs": [
    {
     "data": {
      "text/html": [
       "<iframe id=\"igraph\" scrolling=\"no\" style=\"border:none;\" seamless=\"seamless\" src=\"https://plot.ly/~WangYao/4.embed\" height=\"525px\" width=\"100%\"></iframe>"
      ],
      "text/plain": [
       "<plotly.tools.PlotlyDisplay object>"
      ]
     },
     "execution_count": 14,
     "metadata": {},
     "output_type": "execute_result"
    }
   ],
   "source": [
    "trace1 = go.Scatter(\n",
    "    x=x,\n",
    "    y=y,\n",
    "    mode='markers',\n",
    "    marker=dict(\n",
    "        size='16',\n",
    "        color = z, #set color equal to a variable\n",
    "        colorscale='Viridis',\n",
    "        showscale=True,\n",
    "         colorbar=ColorBar(\n",
    "                title='DV Z')\n",
    "\n",
    "    )\n",
    ")\n",
    "\n",
    "data = [trace1]\n",
    "layout = go.Layout(\n",
    "    title=\"Two random variable plot show\",\n",
    "    xaxis=dict(title=\"IV X\"),\n",
    "    yaxis=dict(title=\"IV Y\")\n",
    ")\n",
    "fig = go.Figure(data=data, layout=layout)\n",
    "py.iplot(fig, filename='lowest-oecd-votes-cast')"
   ]
  },
  {
   "cell_type": "code",
   "execution_count": null,
   "metadata": {
    "collapsed": true
   },
   "outputs": [],
   "source": []
  }
 ],
 "metadata": {
  "kernelspec": {
   "display_name": "Python 2",
   "language": "python",
   "name": "python2"
  },
  "language_info": {
   "codemirror_mode": {
    "name": "ipython",
    "version": 2
   },
   "file_extension": ".py",
   "mimetype": "text/x-python",
   "name": "python",
   "nbconvert_exporter": "python",
   "pygments_lexer": "ipython2",
   "version": "2.7.11"
  }
 },
 "nbformat": 4,
 "nbformat_minor": 0
}
