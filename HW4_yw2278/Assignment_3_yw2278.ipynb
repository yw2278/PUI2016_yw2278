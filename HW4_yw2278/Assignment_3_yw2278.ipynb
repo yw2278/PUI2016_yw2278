{
 "cells": [
  {
   "cell_type": "code",
   "execution_count": 1,
   "metadata": {
    "collapsed": false,
    "scrolled": true
   },
   "outputs": [
    {
     "name": "stdout",
     "output_type": "stream",
     "text": [
      "Populating the interactive namespace from numpy and matplotlib\n"
     ]
    }
   ],
   "source": [
    "import numpy as np\n",
    "import pandas as pd\n",
    "import pylab as pl\n",
    "%pylab inline"
   ]
  },
  {
   "cell_type": "markdown",
   "metadata": {},
   "source": [
    "# what if we used the values for where the former inmate was or was not \"Convicted of a felony\" (row 10) in the Recidivism (Years 1-3)?"
   ]
  },
  {
   "cell_type": "markdown",
   "metadata": {},
   "source": [
    "### Null hypothesis:The % of inmates who ever convicted of a felony is the same or lower for candidates who participated in the program as for the control group, significance level p=0.05"
   ]
  },
  {
   "cell_type": "markdown",
   "metadata": {},
   "source": [
    "$P_0$:Control group\n",
    "\n",
    "$P_1$:Prisoner group"
   ]
  },
  {
   "cell_type": "markdown",
   "metadata": {},
   "source": [
    "$H_0$: $P_1 \\geq P_0$\n",
    "\n",
    "$H_a$: $P_0 \\geq P_1$"
   ]
  },
  {
   "cell_type": "code",
   "execution_count": 27,
   "metadata": {
    "collapsed": true
   },
   "outputs": [],
   "source": [
    "alpha=0.05\n",
    "# we like fractions better then percentages. as a rule of thumb, either use fractions or counts\n",
    "P_0 = 11.7*0.01 ## control group\n",
    "P_1 = 10.0*0.01 ## inmates\n",
    "\n",
    "n_0 = 409\n",
    "n_1 = 564\n",
    "\n",
    "#lets get the counts by multiplying by the sample size\n",
    "Nt_0 = P_0*n_0\n",
    "Nt_1 = P_1*n_1"
   ]
  },
  {
   "cell_type": "code",
   "execution_count": 28,
   "metadata": {
    "collapsed": false
   },
   "outputs": [
    {
     "name": "stdout",
     "output_type": "stream",
     "text": [
      "0.107145940391\n"
     ]
    }
   ],
   "source": [
    "#define the sample proportion first\n",
    "sp = (P_0 * n_0 + P_1 * n_1) / (n_1 + n_0)\n",
    "print (sp)"
   ]
  },
  {
   "cell_type": "code",
   "execution_count": 29,
   "metadata": {
    "collapsed": false
   },
   "outputs": [
    {
     "name": "stdout",
     "output_type": "stream",
     "text": [
      "(0.11699999999999999, 409, 564, 0.020087843368505991)\n"
     ]
    }
   ],
   "source": [
    "sp_stdev = lambda p, n: np.sqrt( p * ( 1 - p ) / n[0] +  p * ( 1 - p ) / n[1]  )\n",
    "sp_stdev_2y = sp_stdev(( Nt_0 + Nt_1) / (n_0 + n_1), [n_0, n_1])\n",
    "print (P_0, n_0, n_1, sp_stdev_2y)"
   ]
  },
  {
   "cell_type": "code",
   "execution_count": 31,
   "metadata": {
    "collapsed": false
   },
   "outputs": [
    {
     "name": "stdout",
     "output_type": "stream",
     "text": [
      "0.846282982605\n"
     ]
    }
   ],
   "source": [
    "zscore = lambda p0, p1, s : (p0-p1)/s\n",
    "z_2y = zscore(P_1, P_0, sp_stdev_2y)\n",
    "print abs(z_2y)"
   ]
  },
  {
   "cell_type": "code",
   "execution_count": 33,
   "metadata": {
    "collapsed": false
   },
   "outputs": [
    {
     "name": "stdout",
     "output_type": "stream",
     "text": [
      "is the p value 0.20 smaller than the critical value 0.05? \n",
      "NO!\n",
      "the Null hypothesis is not rejected\n"
     ]
    }
   ],
   "source": [
    "alpha = 0.05\n",
    "p_2y = 1-0.8023 #after looking up the value in the table\n",
    "def report_result(p,a):\n",
    "    print ('is the p value {0:.2f} smaller than the critical value {1:.2f}? '.format(p,a))\n",
    "    if p < a:\n",
    "        print (\"YES!\")\n",
    "    else: \n",
    "        print (\"NO!\")\n",
    "    \n",
    "    print ('the Null hypothesis is {}'.format( 'rejected' if p < a  else 'not rejected') )\n",
    "\n",
    "    \n",
    "report_result(p_2y,alpha)"
   ]
  },
  {
   "cell_type": "markdown",
   "metadata": {
    "collapsed": true
   },
   "source": [
    "## fill in the contingency table below\n",
    "\n",
    "|convicted of a fellony     |     employed   | not employes   |                   \n",
    "|---------------------------|----------------|------------------|---------------------------|\n",
    "| test sample               |   0.100*564  |    0.900*564  |                     564  |\n",
    "| control sample            |   0.117*409 |    0.883*409  |                       409|\n",
    "|                           |                |                  |                           |\n",
    "| total                     |     104.253   |    868.747       |          973|"
   ]
  },
  {
   "cell_type": "markdown",
   "metadata": {},
   "source": [
    "### DOF is (2-1)*(2-1)=1"
   ]
  },
  {
   "cell_type": "code",
   "execution_count": 34,
   "metadata": {
    "collapsed": false
   },
   "outputs": [
    {
     "name": "stdout",
     "output_type": "stream",
     "text": [
      "0.716194886647\n"
     ]
    }
   ],
   "source": [
    "sample_values = [[0.100 * 564, (1-0.100) * 564], [0.117 * 409, (1-0.117) * 409]]\n",
    "Ntot = 973\n",
    "s1 = sample_values[0][0]+sample_values[1][0]\n",
    "s2 = sample_values[0][1]+sample_values[1][1]\n",
    "expected = 564 * 409 * s1 * s2\n",
    "chisqstat= lambda N, values, expect : N * ((values[0][0] * values[1][1]\n",
    "                                            -values[0][1] * values[1][0])**2) / expect\n",
    "\n",
    "print (chisqstat(Ntot,  sample_values, expected))"
   ]
  },
  {
   "cell_type": "markdown",
   "metadata": {},
   "source": [
    "### For DOF=1, 0.05 p-value should have chi squre test value of 3.84, so we cannot reject the null hypothesis, just as the z-test pointed out."
   ]
  }
 ],
 "metadata": {
  "kernelspec": {
   "display_name": "Python 2",
   "language": "python",
   "name": "python2"
  },
  "language_info": {
   "codemirror_mode": {
    "name": "ipython",
    "version": 2
   },
   "file_extension": ".py",
   "mimetype": "text/x-python",
   "name": "python",
   "nbconvert_exporter": "python",
   "pygments_lexer": "ipython2",
   "version": "2.7.11"
  }
 },
 "nbformat": 4,
 "nbformat_minor": 0
}
