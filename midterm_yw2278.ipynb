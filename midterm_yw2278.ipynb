{
 "cells": [
  {
   "cell_type": "code",
   "execution_count": 262,
   "metadata": {
    "collapsed": false
   },
   "outputs": [
    {
     "name": "stdout",
     "output_type": "stream",
     "text": [
      "Populating the interactive namespace from numpy and matplotlib\n"
     ]
    },
    {
     "name": "stderr",
     "output_type": "stream",
     "text": [
      "/opt/rh/anaconda/root/envs/PUI2016_Python2/lib/python2.7/site-packages/IPython/core/magics/pylab.py:161: UserWarning: pylab import has clobbered these variables: ['norm', 'chisquare']\n",
      "`%matplotlib` prevents importing * from pylab and numpy\n",
      "  \"\\n`%matplotlib` prevents importing * from pylab and numpy\"\n"
     ]
    }
   ],
   "source": [
    "import geopandas as gp\n",
    "import pandas as pd\n",
    "import os\n",
    "import json\n",
    "import pylab as pl\n",
    "import statsmodels.api as sm\n",
    "import statsmodels.formula.api as smf\n",
    "\n",
    "# used for the test\n",
    "from scipy.stats import norm\n",
    "from scipy.stats import kstest \n",
    "from scipy.stats import chisquare\n",
    "from scipy.stats import spearmanr\n",
    "\n",
    "%pylab inline"
   ]
  },
  {
   "cell_type": "code",
   "execution_count": 114,
   "metadata": {
    "collapsed": true
   },
   "outputs": [],
   "source": [
    "import urllib2 as urllib"
   ]
  },
  {
   "cell_type": "code",
   "execution_count": 2,
   "metadata": {
    "collapsed": false
   },
   "outputs": [],
   "source": [
    "from getCitiBikeCSV import getCitiBikeCSV"
   ]
  },
  {
   "cell_type": "code",
   "execution_count": null,
   "metadata": {
    "collapsed": true
   },
   "outputs": [],
   "source": [
    "gp.GeoDataFrame.from_csv()\n",
    "pd.read_csv(parse_dates=[])\n",
    "pd.to_datetime(series)\n",
    "# check header, and make sure there is no nan value \n",
    "df.dropna(inplace=True) \n",
    "\n",
    "#rename column for join purpose\n",
    "df.rename(columns={'original':'new'}, inplace=True)\n",
    "df = pd.merge(a, b, how='inner', on=['same attribute'])\n",
    "# nan to numeric\n",
    "pd.to_numeric(errors=\"coerce\")"
   ]
  },
  {
   "cell_type": "code",
   "execution_count": null,
   "metadata": {
    "collapsed": true
   },
   "outputs": [],
   "source": [
    "df1 = df[df.column.isin([....])]"
   ]
  },
  {
   "cell_type": "code",
   "execution_count": 3,
   "metadata": {
    "collapsed": false
   },
   "outputs": [
    {
     "name": "stdout",
     "output_type": "stream",
     "text": [
      "Downloading 201506\n",
      "file in place, you can continue\n"
     ]
    }
   ],
   "source": [
    "datestring = '201506'\n",
    "getCitiBikeCSV(datestring)"
   ]
  },
  {
   "cell_type": "code",
   "execution_count": 4,
   "metadata": {
    "collapsed": false
   },
   "outputs": [
    {
     "name": "stdout",
     "output_type": "stream",
     "text": [
      "Downloading 201601\n",
      "file in place, you can continue\n"
     ]
    }
   ],
   "source": [
    "datestring = '201601'\n",
    "getCitiBikeCSV(datestring)"
   ]
  },
  {
   "cell_type": "code",
   "execution_count": 329,
   "metadata": {
    "collapsed": true
   },
   "outputs": [],
   "source": [
    "cb2015 = pd.read_csv(os.getenv(\"PUIDATA\") + \"/201506-citibike-tripdata.csv\")\n",
    "cb2016 = pd.read_csv(os.getenv(\"PUIDATA\") + \"/201601-citibike-tripdata.csv\")"
   ]
  },
  {
   "cell_type": "code",
   "execution_count": 15,
   "metadata": {
    "collapsed": true
   },
   "outputs": [],
   "source": [
    "income_data = pd.read_excel(\"https://www.irs.gov/pub/irs-soi/14zp33ny.xls\", header=3)"
   ]
  },
  {
   "cell_type": "code",
   "execution_count": 7,
   "metadata": {
    "collapsed": false
   },
   "outputs": [
    {
     "data": {
      "text/html": [
       "<div>\n",
       "<table border=\"1\" class=\"dataframe\">\n",
       "  <thead>\n",
       "    <tr style=\"text-align: right;\">\n",
       "      <th></th>\n",
       "      <th>tripduration</th>\n",
       "      <th>starttime</th>\n",
       "      <th>stoptime</th>\n",
       "      <th>start station id</th>\n",
       "      <th>start station name</th>\n",
       "      <th>start station latitude</th>\n",
       "      <th>start station longitude</th>\n",
       "      <th>end station id</th>\n",
       "      <th>end station name</th>\n",
       "      <th>end station latitude</th>\n",
       "      <th>end station longitude</th>\n",
       "      <th>bikeid</th>\n",
       "      <th>usertype</th>\n",
       "      <th>birth year</th>\n",
       "      <th>gender</th>\n",
       "    </tr>\n",
       "  </thead>\n",
       "  <tbody>\n",
       "    <tr>\n",
       "      <th>0</th>\n",
       "      <td>1338</td>\n",
       "      <td>6/1/2015 0:00</td>\n",
       "      <td>6/1/2015 0:22</td>\n",
       "      <td>128</td>\n",
       "      <td>MacDougal St &amp; Prince St</td>\n",
       "      <td>40.727103</td>\n",
       "      <td>-74.002971</td>\n",
       "      <td>2021</td>\n",
       "      <td>W 45 St &amp; 8 Ave</td>\n",
       "      <td>40.759291</td>\n",
       "      <td>-73.988597</td>\n",
       "      <td>20721</td>\n",
       "      <td>Subscriber</td>\n",
       "      <td>1984.0</td>\n",
       "      <td>1</td>\n",
       "    </tr>\n",
       "    <tr>\n",
       "      <th>1</th>\n",
       "      <td>290</td>\n",
       "      <td>6/1/2015 0:00</td>\n",
       "      <td>6/1/2015 0:05</td>\n",
       "      <td>438</td>\n",
       "      <td>St Marks Pl &amp; 1 Ave</td>\n",
       "      <td>40.727791</td>\n",
       "      <td>-73.985649</td>\n",
       "      <td>312</td>\n",
       "      <td>Allen St &amp; E Houston St</td>\n",
       "      <td>40.722055</td>\n",
       "      <td>-73.989111</td>\n",
       "      <td>21606</td>\n",
       "      <td>Subscriber</td>\n",
       "      <td>1997.0</td>\n",
       "      <td>1</td>\n",
       "    </tr>\n",
       "    <tr>\n",
       "      <th>2</th>\n",
       "      <td>634</td>\n",
       "      <td>6/1/2015 0:01</td>\n",
       "      <td>6/1/2015 0:11</td>\n",
       "      <td>383</td>\n",
       "      <td>Greenwich Ave &amp; Charles St</td>\n",
       "      <td>40.735238</td>\n",
       "      <td>-74.000271</td>\n",
       "      <td>388</td>\n",
       "      <td>W 26 St &amp; 10 Ave</td>\n",
       "      <td>40.749718</td>\n",
       "      <td>-74.002950</td>\n",
       "      <td>16595</td>\n",
       "      <td>Subscriber</td>\n",
       "      <td>1993.0</td>\n",
       "      <td>1</td>\n",
       "    </tr>\n",
       "    <tr>\n",
       "      <th>3</th>\n",
       "      <td>159</td>\n",
       "      <td>6/1/2015 0:01</td>\n",
       "      <td>6/1/2015 0:04</td>\n",
       "      <td>361</td>\n",
       "      <td>Allen St &amp; Hester St</td>\n",
       "      <td>40.716059</td>\n",
       "      <td>-73.991908</td>\n",
       "      <td>531</td>\n",
       "      <td>Forsyth St &amp; Broome St</td>\n",
       "      <td>40.718939</td>\n",
       "      <td>-73.992663</td>\n",
       "      <td>16949</td>\n",
       "      <td>Subscriber</td>\n",
       "      <td>1981.0</td>\n",
       "      <td>1</td>\n",
       "    </tr>\n",
       "    <tr>\n",
       "      <th>4</th>\n",
       "      <td>1233</td>\n",
       "      <td>6/1/2015 0:02</td>\n",
       "      <td>6/1/2015 0:22</td>\n",
       "      <td>382</td>\n",
       "      <td>University Pl &amp; E 14 St</td>\n",
       "      <td>40.734927</td>\n",
       "      <td>-73.992005</td>\n",
       "      <td>532</td>\n",
       "      <td>S 5 Pl &amp; S 4 St</td>\n",
       "      <td>40.710451</td>\n",
       "      <td>-73.960876</td>\n",
       "      <td>17028</td>\n",
       "      <td>Customer</td>\n",
       "      <td>NaN</td>\n",
       "      <td>0</td>\n",
       "    </tr>\n",
       "  </tbody>\n",
       "</table>\n",
       "</div>"
      ],
      "text/plain": [
       "   tripduration      starttime       stoptime  start station id  \\\n",
       "0          1338  6/1/2015 0:00  6/1/2015 0:22               128   \n",
       "1           290  6/1/2015 0:00  6/1/2015 0:05               438   \n",
       "2           634  6/1/2015 0:01  6/1/2015 0:11               383   \n",
       "3           159  6/1/2015 0:01  6/1/2015 0:04               361   \n",
       "4          1233  6/1/2015 0:02  6/1/2015 0:22               382   \n",
       "\n",
       "           start station name  start station latitude  \\\n",
       "0    MacDougal St & Prince St               40.727103   \n",
       "1         St Marks Pl & 1 Ave               40.727791   \n",
       "2  Greenwich Ave & Charles St               40.735238   \n",
       "3        Allen St & Hester St               40.716059   \n",
       "4     University Pl & E 14 St               40.734927   \n",
       "\n",
       "   start station longitude  end station id         end station name  \\\n",
       "0               -74.002971            2021          W 45 St & 8 Ave   \n",
       "1               -73.985649             312  Allen St & E Houston St   \n",
       "2               -74.000271             388         W 26 St & 10 Ave   \n",
       "3               -73.991908             531   Forsyth St & Broome St   \n",
       "4               -73.992005             532          S 5 Pl & S 4 St   \n",
       "\n",
       "   end station latitude  end station longitude  bikeid    usertype  \\\n",
       "0             40.759291             -73.988597   20721  Subscriber   \n",
       "1             40.722055             -73.989111   21606  Subscriber   \n",
       "2             40.749718             -74.002950   16595  Subscriber   \n",
       "3             40.718939             -73.992663   16949  Subscriber   \n",
       "4             40.710451             -73.960876   17028    Customer   \n",
       "\n",
       "   birth year  gender  \n",
       "0      1984.0       1  \n",
       "1      1997.0       1  \n",
       "2      1993.0       1  \n",
       "3      1981.0       1  \n",
       "4         NaN       0  "
      ]
     },
     "execution_count": 7,
     "metadata": {},
     "output_type": "execute_result"
    }
   ],
   "source": [
    "cb2015.head()"
   ]
  },
  {
   "cell_type": "code",
   "execution_count": 8,
   "metadata": {
    "collapsed": false
   },
   "outputs": [
    {
     "data": {
      "text/html": [
       "<div>\n",
       "<table border=\"1\" class=\"dataframe\">\n",
       "  <thead>\n",
       "    <tr style=\"text-align: right;\">\n",
       "      <th></th>\n",
       "      <th>tripduration</th>\n",
       "      <th>starttime</th>\n",
       "      <th>stoptime</th>\n",
       "      <th>start station id</th>\n",
       "      <th>start station name</th>\n",
       "      <th>start station latitude</th>\n",
       "      <th>start station longitude</th>\n",
       "      <th>end station id</th>\n",
       "      <th>end station name</th>\n",
       "      <th>end station latitude</th>\n",
       "      <th>end station longitude</th>\n",
       "      <th>bikeid</th>\n",
       "      <th>usertype</th>\n",
       "      <th>birth year</th>\n",
       "      <th>gender</th>\n",
       "    </tr>\n",
       "  </thead>\n",
       "  <tbody>\n",
       "    <tr>\n",
       "      <th>0</th>\n",
       "      <td>1338</td>\n",
       "      <td>6/1/2015 0:00</td>\n",
       "      <td>6/1/2015 0:22</td>\n",
       "      <td>128</td>\n",
       "      <td>MacDougal St &amp; Prince St</td>\n",
       "      <td>40.727103</td>\n",
       "      <td>-74.002971</td>\n",
       "      <td>2021</td>\n",
       "      <td>W 45 St &amp; 8 Ave</td>\n",
       "      <td>40.759291</td>\n",
       "      <td>-73.988597</td>\n",
       "      <td>20721</td>\n",
       "      <td>Subscriber</td>\n",
       "      <td>1984.0</td>\n",
       "      <td>1</td>\n",
       "    </tr>\n",
       "    <tr>\n",
       "      <th>1</th>\n",
       "      <td>290</td>\n",
       "      <td>6/1/2015 0:00</td>\n",
       "      <td>6/1/2015 0:05</td>\n",
       "      <td>438</td>\n",
       "      <td>St Marks Pl &amp; 1 Ave</td>\n",
       "      <td>40.727791</td>\n",
       "      <td>-73.985649</td>\n",
       "      <td>312</td>\n",
       "      <td>Allen St &amp; E Houston St</td>\n",
       "      <td>40.722055</td>\n",
       "      <td>-73.989111</td>\n",
       "      <td>21606</td>\n",
       "      <td>Subscriber</td>\n",
       "      <td>1997.0</td>\n",
       "      <td>1</td>\n",
       "    </tr>\n",
       "    <tr>\n",
       "      <th>2</th>\n",
       "      <td>634</td>\n",
       "      <td>6/1/2015 0:01</td>\n",
       "      <td>6/1/2015 0:11</td>\n",
       "      <td>383</td>\n",
       "      <td>Greenwich Ave &amp; Charles St</td>\n",
       "      <td>40.735238</td>\n",
       "      <td>-74.000271</td>\n",
       "      <td>388</td>\n",
       "      <td>W 26 St &amp; 10 Ave</td>\n",
       "      <td>40.749718</td>\n",
       "      <td>-74.002950</td>\n",
       "      <td>16595</td>\n",
       "      <td>Subscriber</td>\n",
       "      <td>1993.0</td>\n",
       "      <td>1</td>\n",
       "    </tr>\n",
       "    <tr>\n",
       "      <th>3</th>\n",
       "      <td>159</td>\n",
       "      <td>6/1/2015 0:01</td>\n",
       "      <td>6/1/2015 0:04</td>\n",
       "      <td>361</td>\n",
       "      <td>Allen St &amp; Hester St</td>\n",
       "      <td>40.716059</td>\n",
       "      <td>-73.991908</td>\n",
       "      <td>531</td>\n",
       "      <td>Forsyth St &amp; Broome St</td>\n",
       "      <td>40.718939</td>\n",
       "      <td>-73.992663</td>\n",
       "      <td>16949</td>\n",
       "      <td>Subscriber</td>\n",
       "      <td>1981.0</td>\n",
       "      <td>1</td>\n",
       "    </tr>\n",
       "    <tr>\n",
       "      <th>4</th>\n",
       "      <td>1233</td>\n",
       "      <td>6/1/2015 0:02</td>\n",
       "      <td>6/1/2015 0:22</td>\n",
       "      <td>382</td>\n",
       "      <td>University Pl &amp; E 14 St</td>\n",
       "      <td>40.734927</td>\n",
       "      <td>-73.992005</td>\n",
       "      <td>532</td>\n",
       "      <td>S 5 Pl &amp; S 4 St</td>\n",
       "      <td>40.710451</td>\n",
       "      <td>-73.960876</td>\n",
       "      <td>17028</td>\n",
       "      <td>Customer</td>\n",
       "      <td>NaN</td>\n",
       "      <td>0</td>\n",
       "    </tr>\n",
       "  </tbody>\n",
       "</table>\n",
       "</div>"
      ],
      "text/plain": [
       "   tripduration      starttime       stoptime  start station id  \\\n",
       "0          1338  6/1/2015 0:00  6/1/2015 0:22               128   \n",
       "1           290  6/1/2015 0:00  6/1/2015 0:05               438   \n",
       "2           634  6/1/2015 0:01  6/1/2015 0:11               383   \n",
       "3           159  6/1/2015 0:01  6/1/2015 0:04               361   \n",
       "4          1233  6/1/2015 0:02  6/1/2015 0:22               382   \n",
       "\n",
       "           start station name  start station latitude  \\\n",
       "0    MacDougal St & Prince St               40.727103   \n",
       "1         St Marks Pl & 1 Ave               40.727791   \n",
       "2  Greenwich Ave & Charles St               40.735238   \n",
       "3        Allen St & Hester St               40.716059   \n",
       "4     University Pl & E 14 St               40.734927   \n",
       "\n",
       "   start station longitude  end station id         end station name  \\\n",
       "0               -74.002971            2021          W 45 St & 8 Ave   \n",
       "1               -73.985649             312  Allen St & E Houston St   \n",
       "2               -74.000271             388         W 26 St & 10 Ave   \n",
       "3               -73.991908             531   Forsyth St & Broome St   \n",
       "4               -73.992005             532          S 5 Pl & S 4 St   \n",
       "\n",
       "   end station latitude  end station longitude  bikeid    usertype  \\\n",
       "0             40.759291             -73.988597   20721  Subscriber   \n",
       "1             40.722055             -73.989111   21606  Subscriber   \n",
       "2             40.749718             -74.002950   16595  Subscriber   \n",
       "3             40.718939             -73.992663   16949  Subscriber   \n",
       "4             40.710451             -73.960876   17028    Customer   \n",
       "\n",
       "   birth year  gender  \n",
       "0      1984.0       1  \n",
       "1      1997.0       1  \n",
       "2      1993.0       1  \n",
       "3      1981.0       1  \n",
       "4         NaN       0  "
      ]
     },
     "execution_count": 8,
     "metadata": {},
     "output_type": "execute_result"
    }
   ],
   "source": [
    "cb2016.head()"
   ]
  },
  {
   "cell_type": "code",
   "execution_count": 108,
   "metadata": {
    "collapsed": false,
    "scrolled": true
   },
   "outputs": [
    {
     "data": {
      "text/plain": [
       "Index([                           u'ZIP\\ncode [1]',\n",
       "                  u'Size of adjusted gross income',\n",
       "                              u'Number of returns',\n",
       "                       u'Number of single returns',\n",
       "                        u'Number of joint returns',\n",
       "            u'Number of head of household returns',\n",
       "          u'Number with paid preparer's signature',\n",
       "                           u'Number of exemptions',\n",
       "                           u'Number of dependents',\n",
       "       u'Number of volunteer prepared returns [2]',\n",
       "       ...\n",
       "                        u'Total tax liability [9]',\n",
       "                                   u'Unnamed: 116',\n",
       "                        u'Additional Medicare tax',\n",
       "                                   u'Unnamed: 118',\n",
       "                      u'Net investment income tax',\n",
       "                                   u'Unnamed: 120',\n",
       "                 u'Tax due at time of filing [10]',\n",
       "                                   u'Unnamed: 122',\n",
       "                     u'Overpayments refunded [11]',\n",
       "                                   u'Unnamed: 124'],\n",
       "      dtype='object', length=125)"
      ]
     },
     "execution_count": 108,
     "metadata": {},
     "output_type": "execute_result"
    }
   ],
   "source": [
    "income_data.columns"
   ]
  },
  {
   "cell_type": "code",
   "execution_count": 16,
   "metadata": {
    "collapsed": false
   },
   "outputs": [
    {
     "data": {
      "text/html": [
       "<div>\n",
       "<table border=\"1\" class=\"dataframe\">\n",
       "  <thead>\n",
       "    <tr style=\"text-align: right;\">\n",
       "      <th></th>\n",
       "      <th>ZIP\n",
       "code [1]</th>\n",
       "      <th>Size of adjusted gross income</th>\n",
       "      <th>Number of returns</th>\n",
       "      <th>Number of single returns</th>\n",
       "      <th>Number of joint returns</th>\n",
       "      <th>Number of head of household returns</th>\n",
       "      <th>Number with paid preparer's signature</th>\n",
       "      <th>Number of exemptions</th>\n",
       "      <th>Number of dependents</th>\n",
       "      <th>Number of volunteer prepared returns [2]</th>\n",
       "      <th>...</th>\n",
       "      <th>Total tax liability [9]</th>\n",
       "      <th>Unnamed: 116</th>\n",
       "      <th>Additional Medicare tax</th>\n",
       "      <th>Unnamed: 118</th>\n",
       "      <th>Net investment income tax</th>\n",
       "      <th>Unnamed: 120</th>\n",
       "      <th>Tax due at time of filing [10]</th>\n",
       "      <th>Unnamed: 122</th>\n",
       "      <th>Overpayments refunded [11]</th>\n",
       "      <th>Unnamed: 124</th>\n",
       "    </tr>\n",
       "  </thead>\n",
       "  <tbody>\n",
       "    <tr>\n",
       "      <th>0</th>\n",
       "      <td>NaN</td>\n",
       "      <td>NaN</td>\n",
       "      <td>NaN</td>\n",
       "      <td>NaN</td>\n",
       "      <td>NaN</td>\n",
       "      <td>NaN</td>\n",
       "      <td>NaN</td>\n",
       "      <td>NaN</td>\n",
       "      <td>NaN</td>\n",
       "      <td>Total</td>\n",
       "      <td>...</td>\n",
       "      <td>Number of returns</td>\n",
       "      <td>Amount</td>\n",
       "      <td>Number of returns</td>\n",
       "      <td>Amount</td>\n",
       "      <td>Number of returns</td>\n",
       "      <td>Amount</td>\n",
       "      <td>Number of returns</td>\n",
       "      <td>Amount</td>\n",
       "      <td>Number of returns</td>\n",
       "      <td>Amount</td>\n",
       "    </tr>\n",
       "    <tr>\n",
       "      <th>1</th>\n",
       "      <td>NaN</td>\n",
       "      <td>NaN</td>\n",
       "      <td>-1.0</td>\n",
       "      <td>-2.0</td>\n",
       "      <td>-3.0</td>\n",
       "      <td>-4.0</td>\n",
       "      <td>-5.0</td>\n",
       "      <td>-6.0</td>\n",
       "      <td>-7.0</td>\n",
       "      <td>-8</td>\n",
       "      <td>...</td>\n",
       "      <td>-114</td>\n",
       "      <td>-115</td>\n",
       "      <td>-116</td>\n",
       "      <td>-117</td>\n",
       "      <td>-118</td>\n",
       "      <td>-119</td>\n",
       "      <td>-120</td>\n",
       "      <td>-121</td>\n",
       "      <td>-122</td>\n",
       "      <td>-123</td>\n",
       "    </tr>\n",
       "    <tr>\n",
       "      <th>2</th>\n",
       "      <td>0</td>\n",
       "      <td>Total</td>\n",
       "      <td>9397410.0</td>\n",
       "      <td>4750550.0</td>\n",
       "      <td>2942890.0</td>\n",
       "      <td>1515950.0</td>\n",
       "      <td>6110600.0</td>\n",
       "      <td>17322490.0</td>\n",
       "      <td>5539120.0</td>\n",
       "      <td>279510</td>\n",
       "      <td>...</td>\n",
       "      <td>7229610</td>\n",
       "      <td>129761061</td>\n",
       "      <td>280780</td>\n",
       "      <td>900175</td>\n",
       "      <td>300410</td>\n",
       "      <td>2745701</td>\n",
       "      <td>1781540</td>\n",
       "      <td>10177242</td>\n",
       "      <td>7115810</td>\n",
       "      <td>25052463</td>\n",
       "    </tr>\n",
       "    <tr>\n",
       "      <th>3</th>\n",
       "      <td>0</td>\n",
       "      <td>$1 under $25,000</td>\n",
       "      <td>3617400.0</td>\n",
       "      <td>2432240.0</td>\n",
       "      <td>468500.0</td>\n",
       "      <td>665410.0</td>\n",
       "      <td>2247810.0</td>\n",
       "      <td>5220510.0</td>\n",
       "      <td>1678560.0</td>\n",
       "      <td>187260</td>\n",
       "      <td>...</td>\n",
       "      <td>1804270</td>\n",
       "      <td>1677200</td>\n",
       "      <td>0</td>\n",
       "      <td>0</td>\n",
       "      <td>0</td>\n",
       "      <td>0</td>\n",
       "      <td>451080</td>\n",
       "      <td>361017</td>\n",
       "      <td>2886740</td>\n",
       "      <td>6049923</td>\n",
       "    </tr>\n",
       "    <tr>\n",
       "      <th>4</th>\n",
       "      <td>0</td>\n",
       "      <td>$25,000 under $50,000</td>\n",
       "      <td>2070870.0</td>\n",
       "      <td>1103290.0</td>\n",
       "      <td>449390.0</td>\n",
       "      <td>467540.0</td>\n",
       "      <td>1280840.0</td>\n",
       "      <td>3729240.0</td>\n",
       "      <td>1219770.0</td>\n",
       "      <td>69390</td>\n",
       "      <td>...</td>\n",
       "      <td>1769800</td>\n",
       "      <td>4790944</td>\n",
       "      <td>0</td>\n",
       "      <td>0</td>\n",
       "      <td>0</td>\n",
       "      <td>0</td>\n",
       "      <td>287080</td>\n",
       "      <td>461908</td>\n",
       "      <td>1747120</td>\n",
       "      <td>4510472</td>\n",
       "    </tr>\n",
       "  </tbody>\n",
       "</table>\n",
       "<p>5 rows × 125 columns</p>\n",
       "</div>"
      ],
      "text/plain": [
       "  ZIP\\ncode [1] Size of adjusted gross income  Number of returns  \\\n",
       "0           NaN                           NaN                NaN   \n",
       "1           NaN                           NaN               -1.0   \n",
       "2             0                         Total          9397410.0   \n",
       "3             0              $1 under $25,000          3617400.0   \n",
       "4             0         $25,000 under $50,000          2070870.0   \n",
       "\n",
       "   Number of single returns  Number of joint returns  \\\n",
       "0                       NaN                      NaN   \n",
       "1                      -2.0                     -3.0   \n",
       "2                 4750550.0                2942890.0   \n",
       "3                 2432240.0                 468500.0   \n",
       "4                 1103290.0                 449390.0   \n",
       "\n",
       "   Number of head of household returns  Number with paid preparer's signature  \\\n",
       "0                                  NaN                                    NaN   \n",
       "1                                 -4.0                                   -5.0   \n",
       "2                            1515950.0                              6110600.0   \n",
       "3                             665410.0                              2247810.0   \n",
       "4                             467540.0                              1280840.0   \n",
       "\n",
       "   Number of exemptions  Number of dependents  \\\n",
       "0                   NaN                   NaN   \n",
       "1                  -6.0                  -7.0   \n",
       "2            17322490.0             5539120.0   \n",
       "3             5220510.0             1678560.0   \n",
       "4             3729240.0             1219770.0   \n",
       "\n",
       "  Number of volunteer prepared returns [2]     ...       \\\n",
       "0                                    Total     ...        \n",
       "1                                       -8     ...        \n",
       "2                                   279510     ...        \n",
       "3                                   187260     ...        \n",
       "4                                    69390     ...        \n",
       "\n",
       "  Total tax liability [9] Unnamed: 116  Additional Medicare tax Unnamed: 118  \\\n",
       "0       Number of returns       Amount        Number of returns       Amount   \n",
       "1                    -114         -115                     -116         -117   \n",
       "2                 7229610    129761061                   280780       900175   \n",
       "3                 1804270      1677200                        0            0   \n",
       "4                 1769800      4790944                        0            0   \n",
       "\n",
       "  Net investment income tax Unnamed: 120 Tax due at time of filing [10]  \\\n",
       "0         Number of returns       Amount              Number of returns   \n",
       "1                      -118         -119                           -120   \n",
       "2                    300410      2745701                        1781540   \n",
       "3                         0            0                         451080   \n",
       "4                         0            0                         287080   \n",
       "\n",
       "  Unnamed: 122 Overpayments refunded [11] Unnamed: 124  \n",
       "0       Amount          Number of returns       Amount  \n",
       "1         -121                       -122         -123  \n",
       "2     10177242                    7115810     25052463  \n",
       "3       361017                    2886740      6049923  \n",
       "4       461908                    1747120      4510472  \n",
       "\n",
       "[5 rows x 125 columns]"
      ]
     },
     "execution_count": 16,
     "metadata": {},
     "output_type": "execute_result"
    }
   ],
   "source": [
    "income_data.head()"
   ]
  },
  {
   "cell_type": "code",
   "execution_count": 18,
   "metadata": {
    "collapsed": true
   },
   "outputs": [],
   "source": [
    "income_data[\"ZIP\\ncode [1]\"] = pd.to_numeric(income_data[\"ZIP\\ncode [1]\"],errors='coerce')"
   ]
  },
  {
   "cell_type": "code",
   "execution_count": 20,
   "metadata": {
    "collapsed": false
   },
   "outputs": [],
   "source": [
    "temp = income_data[~np.isnan(income_data[\"ZIP\\ncode [1]\"])]"
   ]
  },
  {
   "cell_type": "code",
   "execution_count": 21,
   "metadata": {
    "collapsed": false
   },
   "outputs": [
    {
     "data": {
      "text/html": [
       "<div>\n",
       "<table border=\"1\" class=\"dataframe\">\n",
       "  <thead>\n",
       "    <tr style=\"text-align: right;\">\n",
       "      <th></th>\n",
       "      <th>ZIP\n",
       "code [1]</th>\n",
       "      <th>Size of adjusted gross income</th>\n",
       "      <th>Number of returns</th>\n",
       "      <th>Number of single returns</th>\n",
       "      <th>Number of joint returns</th>\n",
       "      <th>Number of head of household returns</th>\n",
       "      <th>Number with paid preparer's signature</th>\n",
       "      <th>Number of exemptions</th>\n",
       "      <th>Number of dependents</th>\n",
       "      <th>Number of volunteer prepared returns [2]</th>\n",
       "      <th>...</th>\n",
       "      <th>Total tax liability [9]</th>\n",
       "      <th>Unnamed: 116</th>\n",
       "      <th>Additional Medicare tax</th>\n",
       "      <th>Unnamed: 118</th>\n",
       "      <th>Net investment income tax</th>\n",
       "      <th>Unnamed: 120</th>\n",
       "      <th>Tax due at time of filing [10]</th>\n",
       "      <th>Unnamed: 122</th>\n",
       "      <th>Overpayments refunded [11]</th>\n",
       "      <th>Unnamed: 124</th>\n",
       "    </tr>\n",
       "  </thead>\n",
       "  <tbody>\n",
       "    <tr>\n",
       "      <th>2</th>\n",
       "      <td>0.0</td>\n",
       "      <td>Total</td>\n",
       "      <td>9397410.0</td>\n",
       "      <td>4750550.0</td>\n",
       "      <td>2942890.0</td>\n",
       "      <td>1515950.0</td>\n",
       "      <td>6110600.0</td>\n",
       "      <td>17322490.0</td>\n",
       "      <td>5539120.0</td>\n",
       "      <td>279510</td>\n",
       "      <td>...</td>\n",
       "      <td>7229610</td>\n",
       "      <td>129761061</td>\n",
       "      <td>280780</td>\n",
       "      <td>900175</td>\n",
       "      <td>300410</td>\n",
       "      <td>2745701</td>\n",
       "      <td>1781540</td>\n",
       "      <td>10177242</td>\n",
       "      <td>7115810</td>\n",
       "      <td>25052463</td>\n",
       "    </tr>\n",
       "    <tr>\n",
       "      <th>3</th>\n",
       "      <td>0.0</td>\n",
       "      <td>$1 under $25,000</td>\n",
       "      <td>3617400.0</td>\n",
       "      <td>2432240.0</td>\n",
       "      <td>468500.0</td>\n",
       "      <td>665410.0</td>\n",
       "      <td>2247810.0</td>\n",
       "      <td>5220510.0</td>\n",
       "      <td>1678560.0</td>\n",
       "      <td>187260</td>\n",
       "      <td>...</td>\n",
       "      <td>1804270</td>\n",
       "      <td>1677200</td>\n",
       "      <td>0</td>\n",
       "      <td>0</td>\n",
       "      <td>0</td>\n",
       "      <td>0</td>\n",
       "      <td>451080</td>\n",
       "      <td>361017</td>\n",
       "      <td>2886740</td>\n",
       "      <td>6049923</td>\n",
       "    </tr>\n",
       "    <tr>\n",
       "      <th>4</th>\n",
       "      <td>0.0</td>\n",
       "      <td>$25,000 under $50,000</td>\n",
       "      <td>2070870.0</td>\n",
       "      <td>1103290.0</td>\n",
       "      <td>449390.0</td>\n",
       "      <td>467540.0</td>\n",
       "      <td>1280840.0</td>\n",
       "      <td>3729240.0</td>\n",
       "      <td>1219770.0</td>\n",
       "      <td>69390</td>\n",
       "      <td>...</td>\n",
       "      <td>1769800</td>\n",
       "      <td>4790944</td>\n",
       "      <td>0</td>\n",
       "      <td>0</td>\n",
       "      <td>0</td>\n",
       "      <td>0</td>\n",
       "      <td>287080</td>\n",
       "      <td>461908</td>\n",
       "      <td>1747120</td>\n",
       "      <td>4510472</td>\n",
       "    </tr>\n",
       "    <tr>\n",
       "      <th>5</th>\n",
       "      <td>0.0</td>\n",
       "      <td>$50,000 under $75,000</td>\n",
       "      <td>1248170.0</td>\n",
       "      <td>590760.0</td>\n",
       "      <td>417090.0</td>\n",
       "      <td>203970.0</td>\n",
       "      <td>811480.0</td>\n",
       "      <td>2354290.0</td>\n",
       "      <td>690410.0</td>\n",
       "      <td>15750</td>\n",
       "      <td>...</td>\n",
       "      <td>1208460</td>\n",
       "      <td>7172107</td>\n",
       "      <td>30</td>\n",
       "      <td>10</td>\n",
       "      <td>0</td>\n",
       "      <td>0</td>\n",
       "      <td>258590</td>\n",
       "      <td>569921</td>\n",
       "      <td>961470</td>\n",
       "      <td>2794612</td>\n",
       "    </tr>\n",
       "    <tr>\n",
       "      <th>6</th>\n",
       "      <td>0.0</td>\n",
       "      <td>$75,000 under $100,000</td>\n",
       "      <td>805170.0</td>\n",
       "      <td>280040.0</td>\n",
       "      <td>408350.0</td>\n",
       "      <td>94660.0</td>\n",
       "      <td>547720.0</td>\n",
       "      <td>1722440.0</td>\n",
       "      <td>509330.0</td>\n",
       "      <td>4250</td>\n",
       "      <td>...</td>\n",
       "      <td>796620</td>\n",
       "      <td>7548905</td>\n",
       "      <td>60</td>\n",
       "      <td>8</td>\n",
       "      <td>0</td>\n",
       "      <td>0</td>\n",
       "      <td>188570</td>\n",
       "      <td>539823</td>\n",
       "      <td>592800</td>\n",
       "      <td>2149986</td>\n",
       "    </tr>\n",
       "  </tbody>\n",
       "</table>\n",
       "<p>5 rows × 125 columns</p>\n",
       "</div>"
      ],
      "text/plain": [
       "   ZIP\\ncode [1] Size of adjusted gross income  Number of returns  \\\n",
       "2            0.0                         Total          9397410.0   \n",
       "3            0.0              $1 under $25,000          3617400.0   \n",
       "4            0.0         $25,000 under $50,000          2070870.0   \n",
       "5            0.0         $50,000 under $75,000          1248170.0   \n",
       "6            0.0        $75,000 under $100,000           805170.0   \n",
       "\n",
       "   Number of single returns  Number of joint returns  \\\n",
       "2                 4750550.0                2942890.0   \n",
       "3                 2432240.0                 468500.0   \n",
       "4                 1103290.0                 449390.0   \n",
       "5                  590760.0                 417090.0   \n",
       "6                  280040.0                 408350.0   \n",
       "\n",
       "   Number of head of household returns  Number with paid preparer's signature  \\\n",
       "2                            1515950.0                              6110600.0   \n",
       "3                             665410.0                              2247810.0   \n",
       "4                             467540.0                              1280840.0   \n",
       "5                             203970.0                               811480.0   \n",
       "6                              94660.0                               547720.0   \n",
       "\n",
       "   Number of exemptions  Number of dependents  \\\n",
       "2            17322490.0             5539120.0   \n",
       "3             5220510.0             1678560.0   \n",
       "4             3729240.0             1219770.0   \n",
       "5             2354290.0              690410.0   \n",
       "6             1722440.0              509330.0   \n",
       "\n",
       "  Number of volunteer prepared returns [2]     ...       \\\n",
       "2                                   279510     ...        \n",
       "3                                   187260     ...        \n",
       "4                                    69390     ...        \n",
       "5                                    15750     ...        \n",
       "6                                     4250     ...        \n",
       "\n",
       "  Total tax liability [9] Unnamed: 116  Additional Medicare tax Unnamed: 118  \\\n",
       "2                 7229610    129761061                   280780       900175   \n",
       "3                 1804270      1677200                        0            0   \n",
       "4                 1769800      4790944                        0            0   \n",
       "5                 1208460      7172107                       30           10   \n",
       "6                  796620      7548905                       60            8   \n",
       "\n",
       "  Net investment income tax Unnamed: 120 Tax due at time of filing [10]  \\\n",
       "2                    300410      2745701                        1781540   \n",
       "3                         0            0                         451080   \n",
       "4                         0            0                         287080   \n",
       "5                         0            0                         258590   \n",
       "6                         0            0                         188570   \n",
       "\n",
       "  Unnamed: 122 Overpayments refunded [11] Unnamed: 124  \n",
       "2     10177242                    7115810     25052463  \n",
       "3       361017                    2886740      6049923  \n",
       "4       461908                    1747120      4510472  \n",
       "5       569921                     961470      2794612  \n",
       "6       539823                     592800      2149986  \n",
       "\n",
       "[5 rows x 125 columns]"
      ]
     },
     "execution_count": 21,
     "metadata": {},
     "output_type": "execute_result"
    }
   ],
   "source": [
    "temp.head()"
   ]
  },
  {
   "cell_type": "code",
   "execution_count": 64,
   "metadata": {
    "collapsed": false
   },
   "outputs": [],
   "source": [
    "income = np.array(temp[\"Adjusted gross income (AGI) [3]\"].groupby(temp[\"ZIP\\ncode [1]\"]).first())[1:-1]# drop 999999 and 0"
   ]
  },
  {
   "cell_type": "code",
   "execution_count": 93,
   "metadata": {
    "collapsed": false,
    "scrolled": true
   },
   "outputs": [],
   "source": [
    "zipcode = np.array(list(set(temp[\"ZIP\\ncode [1]\"]))[2:]).ravel()##drop the zipcodes that make no sense"
   ]
  },
  {
   "cell_type": "code",
   "execution_count": 95,
   "metadata": {
    "collapsed": false
   },
   "outputs": [],
   "source": [
    "N = np.array(temp[\"Number of returns\"].groupby(temp[\"ZIP\\ncode [1]\"]).first())[1:-1].ravel()"
   ]
  },
  {
   "cell_type": "code",
   "execution_count": 96,
   "metadata": {
    "collapsed": true
   },
   "outputs": [],
   "source": [
    "dependents = np.array(temp[[\"Number of dependents\"]].groupby(temp[\"ZIP\\ncode [1]\"]).first())[1:-1].ravel()"
   ]
  },
  {
   "cell_type": "code",
   "execution_count": 97,
   "metadata": {
    "collapsed": false
   },
   "outputs": [],
   "source": [
    "join = np.array(temp[[\"Number of joint returns\"]].groupby(temp[\"ZIP\\ncode [1]\"]).first())[1:-1].ravel()"
   ]
  },
  {
   "cell_type": "code",
   "execution_count": 98,
   "metadata": {
    "collapsed": false
   },
   "outputs": [],
   "source": [
    "zipincome = pd.DataFrame({\"zipcodes\":zipcode,\"income\":income,\"N\":N, \"dependents\":dependents,\"join\":join})"
   ]
  },
  {
   "cell_type": "code",
   "execution_count": 99,
   "metadata": {
    "collapsed": false,
    "scrolled": true
   },
   "outputs": [
    {
     "data": {
      "text/html": [
       "<div>\n",
       "<table border=\"1\" class=\"dataframe\">\n",
       "  <thead>\n",
       "    <tr style=\"text-align: right;\">\n",
       "      <th></th>\n",
       "      <th>N</th>\n",
       "      <th>dependents</th>\n",
       "      <th>income</th>\n",
       "      <th>join</th>\n",
       "      <th>zipcodes</th>\n",
       "    </tr>\n",
       "  </thead>\n",
       "  <tbody>\n",
       "    <tr>\n",
       "      <th>0</th>\n",
       "      <td>14080.0</td>\n",
       "      <td>3250.0</td>\n",
       "      <td>2363960.0</td>\n",
       "      <td>2410.0</td>\n",
       "      <td>10001.0</td>\n",
       "    </tr>\n",
       "    <tr>\n",
       "      <th>1</th>\n",
       "      <td>43370.0</td>\n",
       "      <td>19160.0</td>\n",
       "      <td>2215542.0</td>\n",
       "      <td>11040.0</td>\n",
       "      <td>10002.0</td>\n",
       "    </tr>\n",
       "    <tr>\n",
       "      <th>2</th>\n",
       "      <td>29810.0</td>\n",
       "      <td>4790.0</td>\n",
       "      <td>6910992.0</td>\n",
       "      <td>5460.0</td>\n",
       "      <td>10003.0</td>\n",
       "    </tr>\n",
       "    <tr>\n",
       "      <th>3</th>\n",
       "      <td>2540.0</td>\n",
       "      <td>1130.0</td>\n",
       "      <td>925417.0</td>\n",
       "      <td>840.0</td>\n",
       "      <td>10004.0</td>\n",
       "    </tr>\n",
       "    <tr>\n",
       "      <th>4</th>\n",
       "      <td>5890.0</td>\n",
       "      <td>1340.0</td>\n",
       "      <td>5545849.0</td>\n",
       "      <td>1340.0</td>\n",
       "      <td>10005.0</td>\n",
       "    </tr>\n",
       "  </tbody>\n",
       "</table>\n",
       "</div>"
      ],
      "text/plain": [
       "         N  dependents     income     join  zipcodes\n",
       "0  14080.0      3250.0  2363960.0   2410.0   10001.0\n",
       "1  43370.0     19160.0  2215542.0  11040.0   10002.0\n",
       "2  29810.0      4790.0  6910992.0   5460.0   10003.0\n",
       "3   2540.0      1130.0   925417.0    840.0   10004.0\n",
       "4   5890.0      1340.0  5545849.0   1340.0   10005.0"
      ]
     },
     "execution_count": 99,
     "metadata": {},
     "output_type": "execute_result"
    }
   ],
   "source": [
    "zipincome.head()"
   ]
  },
  {
   "cell_type": "code",
   "execution_count": 378,
   "metadata": {
    "collapsed": false
   },
   "outputs": [
    {
     "data": {
      "text/plain": [
       "0       17330.0\n",
       "1       62530.0\n",
       "2       34600.0\n",
       "3        3670.0\n",
       "4        7230.0\n",
       "5        2970.0\n",
       "6        4870.0\n",
       "7       42900.0\n",
       "8       20890.0\n",
       "9       35780.0\n",
       "10      15160.0\n",
       "11      20700.0\n",
       "12      22050.0\n",
       "13      37380.0\n",
       "14      14950.0\n",
       "15       7660.0\n",
       "16      29590.0\n",
       "17      30590.0\n",
       "18      24750.0\n",
       "19      43300.0\n",
       "20      42000.0\n",
       "21      64590.0\n",
       "22      28340.0\n",
       "23      42150.0\n",
       "24      33350.0\n",
       "25      56620.0\n",
       "26      22170.0\n",
       "27      45510.0\n",
       "28      47020.0\n",
       "29      42270.0\n",
       "         ...   \n",
       "1512      850.0\n",
       "1513     1730.0\n",
       "1514     4130.0\n",
       "1515     1020.0\n",
       "1516     7100.0\n",
       "1517     3120.0\n",
       "1518      400.0\n",
       "1519     1680.0\n",
       "1520      140.0\n",
       "1521      340.0\n",
       "1522      480.0\n",
       "1523     1590.0\n",
       "1524     1020.0\n",
       "1525      220.0\n",
       "1526     2950.0\n",
       "1527     2830.0\n",
       "1528      230.0\n",
       "1529      540.0\n",
       "1530     4950.0\n",
       "1531     1070.0\n",
       "1532     2950.0\n",
       "1533     5780.0\n",
       "1534     1010.0\n",
       "1535     6320.0\n",
       "1536      620.0\n",
       "1537     1120.0\n",
       "1538     8970.0\n",
       "1539     5740.0\n",
       "1540    11390.0\n",
       "1541     6570.0\n",
       "dtype: float64"
      ]
     },
     "execution_count": 378,
     "metadata": {},
     "output_type": "execute_result"
    }
   ],
   "source": [
    "zipincome.N + zipincome.dependents"
   ]
  },
  {
   "cell_type": "code",
   "execution_count": 382,
   "metadata": {
    "collapsed": false
   },
   "outputs": [],
   "source": [
    "zipincome[\"incomePC\"] = zipincome[\"N\"] + zipincome[\"join\"] + zipincome[\"dependents\"]"
   ]
  },
  {
   "cell_type": "code",
   "execution_count": 101,
   "metadata": {
    "collapsed": false
   },
   "outputs": [
    {
     "data": {
      "text/html": [
       "<div>\n",
       "<table border=\"1\" class=\"dataframe\">\n",
       "  <thead>\n",
       "    <tr style=\"text-align: right;\">\n",
       "      <th></th>\n",
       "      <th>N</th>\n",
       "      <th>dependents</th>\n",
       "      <th>income</th>\n",
       "      <th>join</th>\n",
       "      <th>zipcodes</th>\n",
       "      <th>incomePC</th>\n",
       "    </tr>\n",
       "  </thead>\n",
       "  <tbody>\n",
       "    <tr>\n",
       "      <th>0</th>\n",
       "      <td>14080.0</td>\n",
       "      <td>3250.0</td>\n",
       "      <td>2363960.0</td>\n",
       "      <td>2410.0</td>\n",
       "      <td>10001.0</td>\n",
       "      <td>119.754813</td>\n",
       "    </tr>\n",
       "    <tr>\n",
       "      <th>1</th>\n",
       "      <td>43370.0</td>\n",
       "      <td>19160.0</td>\n",
       "      <td>2215542.0</td>\n",
       "      <td>11040.0</td>\n",
       "      <td>10002.0</td>\n",
       "      <td>30.114748</td>\n",
       "    </tr>\n",
       "    <tr>\n",
       "      <th>2</th>\n",
       "      <td>29810.0</td>\n",
       "      <td>4790.0</td>\n",
       "      <td>6910992.0</td>\n",
       "      <td>5460.0</td>\n",
       "      <td>10003.0</td>\n",
       "      <td>172.516026</td>\n",
       "    </tr>\n",
       "    <tr>\n",
       "      <th>3</th>\n",
       "      <td>2540.0</td>\n",
       "      <td>1130.0</td>\n",
       "      <td>925417.0</td>\n",
       "      <td>840.0</td>\n",
       "      <td>10004.0</td>\n",
       "      <td>205.192239</td>\n",
       "    </tr>\n",
       "    <tr>\n",
       "      <th>4</th>\n",
       "      <td>5890.0</td>\n",
       "      <td>1340.0</td>\n",
       "      <td>5545849.0</td>\n",
       "      <td>1340.0</td>\n",
       "      <td>10005.0</td>\n",
       "      <td>647.123571</td>\n",
       "    </tr>\n",
       "  </tbody>\n",
       "</table>\n",
       "</div>"
      ],
      "text/plain": [
       "         N  dependents     income     join  zipcodes    incomePC\n",
       "0  14080.0      3250.0  2363960.0   2410.0   10001.0  119.754813\n",
       "1  43370.0     19160.0  2215542.0  11040.0   10002.0   30.114748\n",
       "2  29810.0      4790.0  6910992.0   5460.0   10003.0  172.516026\n",
       "3   2540.0      1130.0   925417.0    840.0   10004.0  205.192239\n",
       "4   5890.0      1340.0  5545849.0   1340.0   10005.0  647.123571"
      ]
     },
     "execution_count": 101,
     "metadata": {},
     "output_type": "execute_result"
    }
   ],
   "source": [
    "zipincome.head()"
   ]
  },
  {
   "cell_type": "code",
   "execution_count": 107,
   "metadata": {
    "collapsed": false
   },
   "outputs": [],
   "source": [
    "json_data = open(\"api.json\").read()\n",
    "myAPI = json.loads(json_data)  ## save my api key in a json file"
   ]
  },
  {
   "cell_type": "code",
   "execution_count": 304,
   "metadata": {
    "collapsed": false,
    "scrolled": true
   },
   "outputs": [
    {
     "name": "stderr",
     "output_type": "stream",
     "text": [
      "/opt/rh/anaconda/root/envs/PUI2016_Python2/lib/python2.7/site-packages/ipykernel/__main__.py:18: SettingWithCopyWarning: \n",
      "A value is trying to be set on a copy of a slice from a DataFrame\n",
      "\n",
      "See the caveats in the documentation: http://pandas.pydata.org/pandas-docs/stable/indexing.html#indexing-view-versus-copy\n"
     ]
    },
    {
     "data": {
      "text/html": [
       "<div>\n",
       "<table border=\"1\" class=\"dataframe\">\n",
       "  <thead>\n",
       "    <tr style=\"text-align: right;\">\n",
       "      <th></th>\n",
       "      <th>tripduration</th>\n",
       "      <th>starttime</th>\n",
       "      <th>stoptime</th>\n",
       "      <th>start station id</th>\n",
       "      <th>start station name</th>\n",
       "      <th>start station latitude</th>\n",
       "      <th>start station longitude</th>\n",
       "      <th>end station id</th>\n",
       "      <th>end station name</th>\n",
       "      <th>end station latitude</th>\n",
       "      <th>end station longitude</th>\n",
       "      <th>bikeid</th>\n",
       "      <th>usertype</th>\n",
       "      <th>birth year</th>\n",
       "      <th>gender</th>\n",
       "      <th>zipcodes</th>\n",
       "    </tr>\n",
       "  </thead>\n",
       "  <tbody>\n",
       "    <tr>\n",
       "      <th>0</th>\n",
       "      <td>1338</td>\n",
       "      <td>6/1/2015 0:00</td>\n",
       "      <td>6/1/2015 0:22</td>\n",
       "      <td>128</td>\n",
       "      <td>MacDougal St &amp; Prince St</td>\n",
       "      <td>40.727103</td>\n",
       "      <td>-74.002971</td>\n",
       "      <td>2021</td>\n",
       "      <td>W 45 St &amp; 8 Ave</td>\n",
       "      <td>40.759291</td>\n",
       "      <td>-73.988597</td>\n",
       "      <td>20721</td>\n",
       "      <td>Subscriber</td>\n",
       "      <td>1984.0</td>\n",
       "      <td>1</td>\n",
       "      <td>2926</td>\n",
       "    </tr>\n",
       "    <tr>\n",
       "      <th>1</th>\n",
       "      <td>290</td>\n",
       "      <td>6/1/2015 0:00</td>\n",
       "      <td>6/1/2015 0:05</td>\n",
       "      <td>438</td>\n",
       "      <td>St Marks Pl &amp; 1 Ave</td>\n",
       "      <td>40.727791</td>\n",
       "      <td>-73.985649</td>\n",
       "      <td>312</td>\n",
       "      <td>Allen St &amp; E Houston St</td>\n",
       "      <td>40.722055</td>\n",
       "      <td>-73.989111</td>\n",
       "      <td>21606</td>\n",
       "      <td>Subscriber</td>\n",
       "      <td>1997.0</td>\n",
       "      <td>1</td>\n",
       "      <td>10003</td>\n",
       "    </tr>\n",
       "    <tr>\n",
       "      <th>2</th>\n",
       "      <td>634</td>\n",
       "      <td>6/1/2015 0:01</td>\n",
       "      <td>6/1/2015 0:11</td>\n",
       "      <td>383</td>\n",
       "      <td>Greenwich Ave &amp; Charles St</td>\n",
       "      <td>40.735238</td>\n",
       "      <td>-74.000271</td>\n",
       "      <td>388</td>\n",
       "      <td>W 26 St &amp; 10 Ave</td>\n",
       "      <td>40.749718</td>\n",
       "      <td>-74.002950</td>\n",
       "      <td>16595</td>\n",
       "      <td>Subscriber</td>\n",
       "      <td>1993.0</td>\n",
       "      <td>1</td>\n",
       "      <td>10011</td>\n",
       "    </tr>\n",
       "    <tr>\n",
       "      <th>3</th>\n",
       "      <td>159</td>\n",
       "      <td>6/1/2015 0:01</td>\n",
       "      <td>6/1/2015 0:04</td>\n",
       "      <td>361</td>\n",
       "      <td>Allen St &amp; Hester St</td>\n",
       "      <td>40.716059</td>\n",
       "      <td>-73.991908</td>\n",
       "      <td>531</td>\n",
       "      <td>Forsyth St &amp; Broome St</td>\n",
       "      <td>40.718939</td>\n",
       "      <td>-73.992663</td>\n",
       "      <td>16949</td>\n",
       "      <td>Subscriber</td>\n",
       "      <td>1981.0</td>\n",
       "      <td>1</td>\n",
       "      <td>5416</td>\n",
       "    </tr>\n",
       "    <tr>\n",
       "      <th>4</th>\n",
       "      <td>1233</td>\n",
       "      <td>6/1/2015 0:02</td>\n",
       "      <td>6/1/2015 0:22</td>\n",
       "      <td>382</td>\n",
       "      <td>University Pl &amp; E 14 St</td>\n",
       "      <td>40.734927</td>\n",
       "      <td>-73.992005</td>\n",
       "      <td>532</td>\n",
       "      <td>S 5 Pl &amp; S 4 St</td>\n",
       "      <td>40.710451</td>\n",
       "      <td>-73.960876</td>\n",
       "      <td>17028</td>\n",
       "      <td>Customer</td>\n",
       "      <td>NaN</td>\n",
       "      <td>0</td>\n",
       "      <td>4510</td>\n",
       "    </tr>\n",
       "  </tbody>\n",
       "</table>\n",
       "</div>"
      ],
      "text/plain": [
       "   tripduration      starttime       stoptime  start station id  \\\n",
       "0          1338  6/1/2015 0:00  6/1/2015 0:22               128   \n",
       "1           290  6/1/2015 0:00  6/1/2015 0:05               438   \n",
       "2           634  6/1/2015 0:01  6/1/2015 0:11               383   \n",
       "3           159  6/1/2015 0:01  6/1/2015 0:04               361   \n",
       "4          1233  6/1/2015 0:02  6/1/2015 0:22               382   \n",
       "\n",
       "           start station name  start station latitude  \\\n",
       "0    MacDougal St & Prince St               40.727103   \n",
       "1         St Marks Pl & 1 Ave               40.727791   \n",
       "2  Greenwich Ave & Charles St               40.735238   \n",
       "3        Allen St & Hester St               40.716059   \n",
       "4     University Pl & E 14 St               40.734927   \n",
       "\n",
       "   start station longitude  end station id         end station name  \\\n",
       "0               -74.002971            2021          W 45 St & 8 Ave   \n",
       "1               -73.985649             312  Allen St & E Houston St   \n",
       "2               -74.000271             388         W 26 St & 10 Ave   \n",
       "3               -73.991908             531   Forsyth St & Broome St   \n",
       "4               -73.992005             532          S 5 Pl & S 4 St   \n",
       "\n",
       "   end station latitude  end station longitude  bikeid    usertype  \\\n",
       "0             40.759291             -73.988597   20721  Subscriber   \n",
       "1             40.722055             -73.989111   21606  Subscriber   \n",
       "2             40.749718             -74.002950   16595  Subscriber   \n",
       "3             40.718939             -73.992663   16949  Subscriber   \n",
       "4             40.710451             -73.960876   17028    Customer   \n",
       "\n",
       "   birth year  gender zipcodes  \n",
       "0      1984.0       1     2926  \n",
       "1      1997.0       1    10003  \n",
       "2      1993.0       1    10011  \n",
       "3      1981.0       1     5416  \n",
       "4         NaN       0     4510  "
      ]
     },
     "execution_count": 304,
     "metadata": {},
     "output_type": "execute_result"
    }
   ],
   "source": [
    "a = (cb2015[['start station latitude', \n",
    "                'start station longitude']].values.astype(float))\n",
    "len(a)\n",
    "zipcodesDF = pd.DataFrame()\n",
    "\n",
    "cb2015['zipcodes'] = np.zeros(len(cb2015))\n",
    "for latlon in pd.DataFrame(a).drop_duplicates().values:\n",
    "    url = (\"https://maps.googleapis.com/maps/api/geocode/json?latlng=\" +\n",
    "           \"%f,%f&key=%s\"%(\n",
    "            latlon[0], latlon[1], myAPI[\"myAPI\"]))\n",
    "    #print (latlon, url)\n",
    "    #print (get_jsonparsed_data(url))\n",
    "    response = urllib.urlopen(url)\n",
    "    data = response.read().decode(\"utf-8\")\n",
    "    revgeo = json.loads(data)[\"results\"][0]['address_components'][-1]\n",
    "    #print (revgeo)\n",
    "    cb2015['zipcodes'][(cb2015['start station latitude'] == latlon[0]) * \n",
    "           (cb2015['start station longitude'] == latlon[1])] = revgeo['long_name']\n",
    "cb2015.head()"
   ]
  },
  {
   "cell_type": "code",
   "execution_count": 311,
   "metadata": {
    "collapsed": false,
    "scrolled": true
   },
   "outputs": [
    {
     "data": {
      "text/html": [
       "<div>\n",
       "<table border=\"1\" class=\"dataframe\">\n",
       "  <thead>\n",
       "    <tr style=\"text-align: right;\">\n",
       "      <th></th>\n",
       "      <th>tripduration</th>\n",
       "      <th>starttime</th>\n",
       "      <th>stoptime</th>\n",
       "      <th>start station id</th>\n",
       "      <th>start station name</th>\n",
       "      <th>start station latitude</th>\n",
       "      <th>start station longitude</th>\n",
       "      <th>end station id</th>\n",
       "      <th>end station name</th>\n",
       "      <th>end station latitude</th>\n",
       "      <th>end station longitude</th>\n",
       "      <th>bikeid</th>\n",
       "      <th>usertype</th>\n",
       "      <th>birth year</th>\n",
       "      <th>gender</th>\n",
       "    </tr>\n",
       "    <tr>\n",
       "      <th>zipcodes</th>\n",
       "      <th></th>\n",
       "      <th></th>\n",
       "      <th></th>\n",
       "      <th></th>\n",
       "      <th></th>\n",
       "      <th></th>\n",
       "      <th></th>\n",
       "      <th></th>\n",
       "      <th></th>\n",
       "      <th></th>\n",
       "      <th></th>\n",
       "      <th></th>\n",
       "      <th></th>\n",
       "      <th></th>\n",
       "      <th></th>\n",
       "    </tr>\n",
       "  </thead>\n",
       "  <tbody>\n",
       "    <tr>\n",
       "      <th>0914</th>\n",
       "      <td>3675</td>\n",
       "      <td>3675</td>\n",
       "      <td>3675</td>\n",
       "      <td>3675</td>\n",
       "      <td>3675</td>\n",
       "      <td>3675</td>\n",
       "      <td>3675</td>\n",
       "      <td>3675</td>\n",
       "      <td>3675</td>\n",
       "      <td>3675</td>\n",
       "      <td>3675</td>\n",
       "      <td>3675</td>\n",
       "      <td>3675</td>\n",
       "      <td>3369</td>\n",
       "      <td>3675</td>\n",
       "    </tr>\n",
       "    <tr>\n",
       "      <th>10001</th>\n",
       "      <td>51691</td>\n",
       "      <td>51691</td>\n",
       "      <td>51691</td>\n",
       "      <td>51691</td>\n",
       "      <td>51691</td>\n",
       "      <td>51691</td>\n",
       "      <td>51691</td>\n",
       "      <td>51691</td>\n",
       "      <td>51691</td>\n",
       "      <td>51691</td>\n",
       "      <td>51691</td>\n",
       "      <td>51691</td>\n",
       "      <td>51691</td>\n",
       "      <td>45571</td>\n",
       "      <td>51691</td>\n",
       "    </tr>\n",
       "    <tr>\n",
       "      <th>10002</th>\n",
       "      <td>45970</td>\n",
       "      <td>45970</td>\n",
       "      <td>45970</td>\n",
       "      <td>45970</td>\n",
       "      <td>45970</td>\n",
       "      <td>45970</td>\n",
       "      <td>45970</td>\n",
       "      <td>45970</td>\n",
       "      <td>45970</td>\n",
       "      <td>45970</td>\n",
       "      <td>45970</td>\n",
       "      <td>45970</td>\n",
       "      <td>45970</td>\n",
       "      <td>40795</td>\n",
       "      <td>45970</td>\n",
       "    </tr>\n",
       "    <tr>\n",
       "      <th>10003</th>\n",
       "      <td>74663</td>\n",
       "      <td>74663</td>\n",
       "      <td>74663</td>\n",
       "      <td>74663</td>\n",
       "      <td>74663</td>\n",
       "      <td>74663</td>\n",
       "      <td>74663</td>\n",
       "      <td>74663</td>\n",
       "      <td>74663</td>\n",
       "      <td>74663</td>\n",
       "      <td>74663</td>\n",
       "      <td>74663</td>\n",
       "      <td>74663</td>\n",
       "      <td>67536</td>\n",
       "      <td>74663</td>\n",
       "    </tr>\n",
       "    <tr>\n",
       "      <th>10004</th>\n",
       "      <td>13698</td>\n",
       "      <td>13698</td>\n",
       "      <td>13698</td>\n",
       "      <td>13698</td>\n",
       "      <td>13698</td>\n",
       "      <td>13698</td>\n",
       "      <td>13698</td>\n",
       "      <td>13698</td>\n",
       "      <td>13698</td>\n",
       "      <td>13698</td>\n",
       "      <td>13698</td>\n",
       "      <td>13698</td>\n",
       "      <td>13698</td>\n",
       "      <td>9850</td>\n",
       "      <td>13698</td>\n",
       "    </tr>\n",
       "  </tbody>\n",
       "</table>\n",
       "</div>"
      ],
      "text/plain": [
       "          tripduration  starttime  stoptime  start station id  \\\n",
       "zipcodes                                                        \n",
       "0914              3675       3675      3675              3675   \n",
       "10001            51691      51691     51691             51691   \n",
       "10002            45970      45970     45970             45970   \n",
       "10003            74663      74663     74663             74663   \n",
       "10004            13698      13698     13698             13698   \n",
       "\n",
       "          start station name  start station latitude  start station longitude  \\\n",
       "zipcodes                                                                        \n",
       "0914                    3675                    3675                     3675   \n",
       "10001                  51691                   51691                    51691   \n",
       "10002                  45970                   45970                    45970   \n",
       "10003                  74663                   74663                    74663   \n",
       "10004                  13698                   13698                    13698   \n",
       "\n",
       "          end station id  end station name  end station latitude  \\\n",
       "zipcodes                                                           \n",
       "0914                3675              3675                  3675   \n",
       "10001              51691             51691                 51691   \n",
       "10002              45970             45970                 45970   \n",
       "10003              74663             74663                 74663   \n",
       "10004              13698             13698                 13698   \n",
       "\n",
       "          end station longitude  bikeid  usertype  birth year  gender  \n",
       "zipcodes                                                               \n",
       "0914                       3675    3675      3675        3369    3675  \n",
       "10001                     51691   51691     51691       45571   51691  \n",
       "10002                     45970   45970     45970       40795   45970  \n",
       "10003                     74663   74663     74663       67536   74663  \n",
       "10004                     13698   13698     13698        9850   13698  "
      ]
     },
     "execution_count": 311,
     "metadata": {},
     "output_type": "execute_result"
    }
   ],
   "source": [
    "cbgroup = cb2015.groupby(cb2015.zipcodes).count()\n",
    "cbgroup.head()"
   ]
  },
  {
   "cell_type": "code",
   "execution_count": 312,
   "metadata": {
    "collapsed": false
   },
   "outputs": [],
   "source": [
    "cbgroup = cbgroup[cbgroup.index.astype(int)>9999]"
   ]
  },
  {
   "cell_type": "code",
   "execution_count": 313,
   "metadata": {
    "collapsed": false
   },
   "outputs": [],
   "source": [
    "cbgroup = cbgroup.reset_index()"
   ]
  },
  {
   "cell_type": "code",
   "execution_count": 314,
   "metadata": {
    "collapsed": false,
    "scrolled": false
   },
   "outputs": [
    {
     "data": {
      "text/html": [
       "<div>\n",
       "<table border=\"1\" class=\"dataframe\">\n",
       "  <thead>\n",
       "    <tr style=\"text-align: right;\">\n",
       "      <th></th>\n",
       "      <th>zipcodes</th>\n",
       "      <th>tripduration</th>\n",
       "      <th>starttime</th>\n",
       "      <th>stoptime</th>\n",
       "      <th>start station id</th>\n",
       "      <th>start station name</th>\n",
       "      <th>start station latitude</th>\n",
       "      <th>start station longitude</th>\n",
       "      <th>end station id</th>\n",
       "      <th>end station name</th>\n",
       "      <th>end station latitude</th>\n",
       "      <th>end station longitude</th>\n",
       "      <th>bikeid</th>\n",
       "      <th>usertype</th>\n",
       "      <th>birth year</th>\n",
       "      <th>gender</th>\n",
       "    </tr>\n",
       "  </thead>\n",
       "  <tbody>\n",
       "    <tr>\n",
       "      <th>0</th>\n",
       "      <td>10001</td>\n",
       "      <td>51691</td>\n",
       "      <td>51691</td>\n",
       "      <td>51691</td>\n",
       "      <td>51691</td>\n",
       "      <td>51691</td>\n",
       "      <td>51691</td>\n",
       "      <td>51691</td>\n",
       "      <td>51691</td>\n",
       "      <td>51691</td>\n",
       "      <td>51691</td>\n",
       "      <td>51691</td>\n",
       "      <td>51691</td>\n",
       "      <td>51691</td>\n",
       "      <td>45571</td>\n",
       "      <td>51691</td>\n",
       "    </tr>\n",
       "    <tr>\n",
       "      <th>1</th>\n",
       "      <td>10002</td>\n",
       "      <td>45970</td>\n",
       "      <td>45970</td>\n",
       "      <td>45970</td>\n",
       "      <td>45970</td>\n",
       "      <td>45970</td>\n",
       "      <td>45970</td>\n",
       "      <td>45970</td>\n",
       "      <td>45970</td>\n",
       "      <td>45970</td>\n",
       "      <td>45970</td>\n",
       "      <td>45970</td>\n",
       "      <td>45970</td>\n",
       "      <td>45970</td>\n",
       "      <td>40795</td>\n",
       "      <td>45970</td>\n",
       "    </tr>\n",
       "    <tr>\n",
       "      <th>2</th>\n",
       "      <td>10003</td>\n",
       "      <td>74663</td>\n",
       "      <td>74663</td>\n",
       "      <td>74663</td>\n",
       "      <td>74663</td>\n",
       "      <td>74663</td>\n",
       "      <td>74663</td>\n",
       "      <td>74663</td>\n",
       "      <td>74663</td>\n",
       "      <td>74663</td>\n",
       "      <td>74663</td>\n",
       "      <td>74663</td>\n",
       "      <td>74663</td>\n",
       "      <td>74663</td>\n",
       "      <td>67536</td>\n",
       "      <td>74663</td>\n",
       "    </tr>\n",
       "    <tr>\n",
       "      <th>3</th>\n",
       "      <td>10004</td>\n",
       "      <td>13698</td>\n",
       "      <td>13698</td>\n",
       "      <td>13698</td>\n",
       "      <td>13698</td>\n",
       "      <td>13698</td>\n",
       "      <td>13698</td>\n",
       "      <td>13698</td>\n",
       "      <td>13698</td>\n",
       "      <td>13698</td>\n",
       "      <td>13698</td>\n",
       "      <td>13698</td>\n",
       "      <td>13698</td>\n",
       "      <td>13698</td>\n",
       "      <td>9850</td>\n",
       "      <td>13698</td>\n",
       "    </tr>\n",
       "    <tr>\n",
       "      <th>4</th>\n",
       "      <td>10005</td>\n",
       "      <td>9631</td>\n",
       "      <td>9631</td>\n",
       "      <td>9631</td>\n",
       "      <td>9631</td>\n",
       "      <td>9631</td>\n",
       "      <td>9631</td>\n",
       "      <td>9631</td>\n",
       "      <td>9631</td>\n",
       "      <td>9631</td>\n",
       "      <td>9631</td>\n",
       "      <td>9631</td>\n",
       "      <td>9631</td>\n",
       "      <td>9631</td>\n",
       "      <td>7992</td>\n",
       "      <td>9631</td>\n",
       "    </tr>\n",
       "  </tbody>\n",
       "</table>\n",
       "</div>"
      ],
      "text/plain": [
       "  zipcodes  tripduration  starttime  stoptime  start station id  \\\n",
       "0    10001         51691      51691     51691             51691   \n",
       "1    10002         45970      45970     45970             45970   \n",
       "2    10003         74663      74663     74663             74663   \n",
       "3    10004         13698      13698     13698             13698   \n",
       "4    10005          9631       9631      9631              9631   \n",
       "\n",
       "   start station name  start station latitude  start station longitude  \\\n",
       "0               51691                   51691                    51691   \n",
       "1               45970                   45970                    45970   \n",
       "2               74663                   74663                    74663   \n",
       "3               13698                   13698                    13698   \n",
       "4                9631                    9631                     9631   \n",
       "\n",
       "   end station id  end station name  end station latitude  \\\n",
       "0           51691             51691                 51691   \n",
       "1           45970             45970                 45970   \n",
       "2           74663             74663                 74663   \n",
       "3           13698             13698                 13698   \n",
       "4            9631              9631                  9631   \n",
       "\n",
       "   end station longitude  bikeid  usertype  birth year  gender  \n",
       "0                  51691   51691     51691       45571   51691  \n",
       "1                  45970   45970     45970       40795   45970  \n",
       "2                  74663   74663     74663       67536   74663  \n",
       "3                  13698   13698     13698        9850   13698  \n",
       "4                   9631    9631      9631        7992    9631  "
      ]
     },
     "execution_count": 314,
     "metadata": {},
     "output_type": "execute_result"
    }
   ],
   "source": [
    "cbgroup.head()"
   ]
  },
  {
   "cell_type": "code",
   "execution_count": 374,
   "metadata": {
    "collapsed": false
   },
   "outputs": [],
   "source": [
    "cbgroup.zipcodes = cbgroup.zipcodes.astype(int)"
   ]
  },
  {
   "cell_type": "code",
   "execution_count": 316,
   "metadata": {
    "collapsed": false,
    "scrolled": true
   },
   "outputs": [],
   "source": [
    "zipincome.zipcodes = zipincome.zipcodes.apply(lambda x: int(x))"
   ]
  },
  {
   "cell_type": "code",
   "execution_count": 317,
   "metadata": {
    "collapsed": false
   },
   "outputs": [],
   "source": [
    "cbincome = pd.merge(zipincome, cbgroup[[\"zipcodes\",\"tripduration\"]], on=['zipcodes'])"
   ]
  },
  {
   "cell_type": "code",
   "execution_count": 318,
   "metadata": {
    "collapsed": true
   },
   "outputs": [],
   "source": [
    "cbincome.rename(columns={'tripduration':'Nrides'}, inplace=True)"
   ]
  },
  {
   "cell_type": "code",
   "execution_count": 319,
   "metadata": {
    "collapsed": false
   },
   "outputs": [
    {
     "data": {
      "text/html": [
       "<div>\n",
       "<table border=\"1\" class=\"dataframe\">\n",
       "  <thead>\n",
       "    <tr style=\"text-align: right;\">\n",
       "      <th></th>\n",
       "      <th>N</th>\n",
       "      <th>dependents</th>\n",
       "      <th>income</th>\n",
       "      <th>join</th>\n",
       "      <th>zipcodes</th>\n",
       "      <th>incomePC</th>\n",
       "      <th>Nrides</th>\n",
       "    </tr>\n",
       "  </thead>\n",
       "  <tbody>\n",
       "    <tr>\n",
       "      <th>0</th>\n",
       "      <td>14080.0</td>\n",
       "      <td>3250.0</td>\n",
       "      <td>2363960.0</td>\n",
       "      <td>2410.0</td>\n",
       "      <td>10001</td>\n",
       "      <td>119.754813</td>\n",
       "      <td>51691</td>\n",
       "    </tr>\n",
       "    <tr>\n",
       "      <th>1</th>\n",
       "      <td>43370.0</td>\n",
       "      <td>19160.0</td>\n",
       "      <td>2215542.0</td>\n",
       "      <td>11040.0</td>\n",
       "      <td>10002</td>\n",
       "      <td>30.114748</td>\n",
       "      <td>45970</td>\n",
       "    </tr>\n",
       "    <tr>\n",
       "      <th>2</th>\n",
       "      <td>29810.0</td>\n",
       "      <td>4790.0</td>\n",
       "      <td>6910992.0</td>\n",
       "      <td>5460.0</td>\n",
       "      <td>10003</td>\n",
       "      <td>172.516026</td>\n",
       "      <td>74663</td>\n",
       "    </tr>\n",
       "    <tr>\n",
       "      <th>3</th>\n",
       "      <td>2540.0</td>\n",
       "      <td>1130.0</td>\n",
       "      <td>925417.0</td>\n",
       "      <td>840.0</td>\n",
       "      <td>10004</td>\n",
       "      <td>205.192239</td>\n",
       "      <td>13698</td>\n",
       "    </tr>\n",
       "    <tr>\n",
       "      <th>4</th>\n",
       "      <td>5890.0</td>\n",
       "      <td>1340.0</td>\n",
       "      <td>5545849.0</td>\n",
       "      <td>1340.0</td>\n",
       "      <td>10005</td>\n",
       "      <td>647.123571</td>\n",
       "      <td>9631</td>\n",
       "    </tr>\n",
       "  </tbody>\n",
       "</table>\n",
       "</div>"
      ],
      "text/plain": [
       "         N  dependents     income     join  zipcodes    incomePC  Nrides\n",
       "0  14080.0      3250.0  2363960.0   2410.0     10001  119.754813   51691\n",
       "1  43370.0     19160.0  2215542.0  11040.0     10002   30.114748   45970\n",
       "2  29810.0      4790.0  6910992.0   5460.0     10003  172.516026   74663\n",
       "3   2540.0      1130.0   925417.0    840.0     10004  205.192239   13698\n",
       "4   5890.0      1340.0  5545849.0   1340.0     10005  647.123571    9631"
      ]
     },
     "execution_count": 319,
     "metadata": {},
     "output_type": "execute_result"
    }
   ],
   "source": [
    "cbincome.head()"
   ]
  },
  {
   "cell_type": "code",
   "execution_count": 320,
   "metadata": {
    "collapsed": false
   },
   "outputs": [],
   "source": [
    "cbincome.Nrides = pd.to_numeric(cbincome.Nrides,errors=\"coerce\")\n",
    "cbincome.income = pd.to_numeric(cbincome.income,errors=\"coerce\")\n",
    "cbincome.incomePC = pd.to_numeric(cbincome.incomePC,errors=\"coerce\")"
   ]
  },
  {
   "cell_type": "code",
   "execution_count": 321,
   "metadata": {
    "collapsed": false,
    "scrolled": false
   },
   "outputs": [
    {
     "data": {
      "text/html": [
       "<table class=\"simpletable\">\n",
       "<caption>OLS Regression Results</caption>\n",
       "<tr>\n",
       "  <th>Dep. Variable:</th>         <td>Nrides</td>      <th>  R-squared:         </th> <td>   0.100</td>\n",
       "</tr>\n",
       "<tr>\n",
       "  <th>Model:</th>                   <td>OLS</td>       <th>  Adj. R-squared:    </th> <td>   0.066</td>\n",
       "</tr>\n",
       "<tr>\n",
       "  <th>Method:</th>             <td>Least Squares</td>  <th>  F-statistic:       </th> <td>   2.992</td>\n",
       "</tr>\n",
       "<tr>\n",
       "  <th>Date:</th>             <td>Tue, 25 Oct 2016</td> <th>  Prob (F-statistic):</th>  <td>0.0951</td> \n",
       "</tr>\n",
       "<tr>\n",
       "  <th>Time:</th>                 <td>13:31:36</td>     <th>  Log-Likelihood:    </th> <td> -327.38</td>\n",
       "</tr>\n",
       "<tr>\n",
       "  <th>No. Observations:</th>      <td>    29</td>      <th>  AIC:               </th> <td>   658.8</td>\n",
       "</tr>\n",
       "<tr>\n",
       "  <th>Df Residuals:</th>          <td>    27</td>      <th>  BIC:               </th> <td>   661.5</td>\n",
       "</tr>\n",
       "<tr>\n",
       "  <th>Df Model:</th>              <td>     1</td>      <th>                     </th>     <td> </td>   \n",
       "</tr>\n",
       "<tr>\n",
       "  <th>Covariance Type:</th>      <td>nonrobust</td>    <th>                     </th>     <td> </td>   \n",
       "</tr>\n",
       "</table>\n",
       "<table class=\"simpletable\">\n",
       "<tr>\n",
       "      <td></td>         <th>coef</th>     <th>std err</th>      <th>t</th>      <th>P>|t|</th> <th>[95.0% Conf. Int.]</th> \n",
       "</tr>\n",
       "<tr>\n",
       "  <th>Intercept</th> <td> 1.639e+04</td> <td> 6111.171</td> <td>    2.682</td> <td> 0.012</td> <td> 3848.957  2.89e+04</td>\n",
       "</tr>\n",
       "<tr>\n",
       "  <th>income</th>    <td>    0.0021</td> <td>    0.001</td> <td>    1.730</td> <td> 0.095</td> <td>   -0.000     0.004</td>\n",
       "</tr>\n",
       "</table>\n",
       "<table class=\"simpletable\">\n",
       "<tr>\n",
       "  <th>Omnibus:</th>       <td> 4.166</td> <th>  Durbin-Watson:     </th> <td>   1.214</td>\n",
       "</tr>\n",
       "<tr>\n",
       "  <th>Prob(Omnibus):</th> <td> 0.125</td> <th>  Jarque-Bera (JB):  </th> <td>   2.923</td>\n",
       "</tr>\n",
       "<tr>\n",
       "  <th>Skew:</th>          <td> 0.766</td> <th>  Prob(JB):          </th> <td>   0.232</td>\n",
       "</tr>\n",
       "<tr>\n",
       "  <th>Kurtosis:</th>      <td> 3.271</td> <th>  Cond. No.          </th> <td>8.45e+06</td>\n",
       "</tr>\n",
       "</table>"
      ],
      "text/plain": [
       "<class 'statsmodels.iolib.summary.Summary'>\n",
       "\"\"\"\n",
       "                            OLS Regression Results                            \n",
       "==============================================================================\n",
       "Dep. Variable:                 Nrides   R-squared:                       0.100\n",
       "Model:                            OLS   Adj. R-squared:                  0.066\n",
       "Method:                 Least Squares   F-statistic:                     2.992\n",
       "Date:                Tue, 25 Oct 2016   Prob (F-statistic):             0.0951\n",
       "Time:                        13:31:36   Log-Likelihood:                -327.38\n",
       "No. Observations:                  29   AIC:                             658.8\n",
       "Df Residuals:                      27   BIC:                             661.5\n",
       "Df Model:                           1                                         \n",
       "Covariance Type:            nonrobust                                         \n",
       "==============================================================================\n",
       "                 coef    std err          t      P>|t|      [95.0% Conf. Int.]\n",
       "------------------------------------------------------------------------------\n",
       "Intercept   1.639e+04   6111.171      2.682      0.012      3848.957  2.89e+04\n",
       "income         0.0021      0.001      1.730      0.095        -0.000     0.004\n",
       "==============================================================================\n",
       "Omnibus:                        4.166   Durbin-Watson:                   1.214\n",
       "Prob(Omnibus):                  0.125   Jarque-Bera (JB):                2.923\n",
       "Skew:                           0.766   Prob(JB):                        0.232\n",
       "Kurtosis:                       3.271   Cond. No.                     8.45e+06\n",
       "==============================================================================\n",
       "\n",
       "Warnings:\n",
       "[1] Standard Errors assume that the covariance matrix of the errors is correctly specified.\n",
       "[2] The condition number is large, 8.45e+06. This might indicate that there are\n",
       "strong multicollinearity or other numerical problems.\n",
       "\"\"\""
      ]
     },
     "execution_count": 321,
     "metadata": {},
     "output_type": "execute_result"
    },
    {
     "data": {
      "image/png": "[encoded data removed]",
      "text/plain": [
       "<matplotlib.figure.Figure at 0x7f2a7b22d310>"
      ]
     },
     "metadata": {},
     "output_type": "display_data"
    }
   ],
   "source": [
    "cbincome.plot.scatter(y=\"Nrides\", x=\"income\", label=\"original data\")\n",
    "pl.title(\"ridership vs AGI\", fontsize = 10)\n",
    "regression = smf.ols(\"Nrides ~ income\", data=cbincome).fit()\n",
    "x_line = np.arange(0,2*1e7,10000)\n",
    "x = pd.DataFrame({\"income\":x_line})\n",
    "Y = regression.predict(x)\n",
    "pl.plot(x_line,Y, label=\"fitted line\")\n",
    "pl.legend(loc=\"best\")\n",
    "regression.summary()"
   ]
  },
  {
   "cell_type": "markdown",
   "metadata": {},
   "source": [
    "##### Figure.1: plot number of rides vs. AGI for each zipcode and then fit a line to the data"
   ]
  },
  {
   "cell_type": "code",
   "execution_count": 322,
   "metadata": {
    "collapsed": true
   },
   "outputs": [],
   "source": [
    "## drop the outliers\n",
    "mask = cbincome.income>1e7\n",
    "cb2 = cbincome[~mask]"
   ]
  },
  {
   "cell_type": "code",
   "execution_count": 323,
   "metadata": {
    "collapsed": false
   },
   "outputs": [
    {
     "data": {
      "text/html": [
       "<table class=\"simpletable\">\n",
       "<caption>OLS Regression Results</caption>\n",
       "<tr>\n",
       "  <th>Dep. Variable:</th>         <td>Nrides</td>      <th>  R-squared:         </th> <td>   0.424</td>\n",
       "</tr>\n",
       "<tr>\n",
       "  <th>Model:</th>                   <td>OLS</td>       <th>  Adj. R-squared:    </th> <td>   0.401</td>\n",
       "</tr>\n",
       "<tr>\n",
       "  <th>Method:</th>             <td>Least Squares</td>  <th>  F-statistic:       </th> <td>   18.39</td>\n",
       "</tr>\n",
       "<tr>\n",
       "  <th>Date:</th>             <td>Tue, 25 Oct 2016</td> <th>  Prob (F-statistic):</th> <td>0.000235</td>\n",
       "</tr>\n",
       "<tr>\n",
       "  <th>Time:</th>                 <td>13:31:42</td>     <th>  Log-Likelihood:    </th> <td> -299.25</td>\n",
       "</tr>\n",
       "<tr>\n",
       "  <th>No. Observations:</th>      <td>    27</td>      <th>  AIC:               </th> <td>   602.5</td>\n",
       "</tr>\n",
       "<tr>\n",
       "  <th>Df Residuals:</th>          <td>    25</td>      <th>  BIC:               </th> <td>   605.1</td>\n",
       "</tr>\n",
       "<tr>\n",
       "  <th>Df Model:</th>              <td>     1</td>      <th>                     </th>     <td> </td>   \n",
       "</tr>\n",
       "<tr>\n",
       "  <th>Covariance Type:</th>      <td>nonrobust</td>    <th>                     </th>     <td> </td>   \n",
       "</tr>\n",
       "</table>\n",
       "<table class=\"simpletable\">\n",
       "<tr>\n",
       "      <td></td>         <th>coef</th>     <th>std err</th>      <th>t</th>      <th>P>|t|</th> <th>[95.0% Conf. Int.]</th> \n",
       "</tr>\n",
       "<tr>\n",
       "  <th>Intercept</th> <td> 5040.7282</td> <td> 5768.708</td> <td>    0.874</td> <td> 0.391</td> <td>-6840.148  1.69e+04</td>\n",
       "</tr>\n",
       "<tr>\n",
       "  <th>income</th>    <td>    0.0060</td> <td>    0.001</td> <td>    4.289</td> <td> 0.000</td> <td>    0.003     0.009</td>\n",
       "</tr>\n",
       "</table>\n",
       "<table class=\"simpletable\">\n",
       "<tr>\n",
       "  <th>Omnibus:</th>       <td> 1.783</td> <th>  Durbin-Watson:     </th> <td>   1.241</td>\n",
       "</tr>\n",
       "<tr>\n",
       "  <th>Prob(Omnibus):</th> <td> 0.410</td> <th>  Jarque-Bera (JB):  </th> <td>   1.567</td>\n",
       "</tr>\n",
       "<tr>\n",
       "  <th>Skew:</th>          <td> 0.547</td> <th>  Prob(JB):          </th> <td>   0.457</td>\n",
       "</tr>\n",
       "<tr>\n",
       "  <th>Kurtosis:</th>      <td> 2.555</td> <th>  Cond. No.          </th> <td>7.59e+06</td>\n",
       "</tr>\n",
       "</table>"
      ],
      "text/plain": [
       "<class 'statsmodels.iolib.summary.Summary'>\n",
       "\"\"\"\n",
       "                            OLS Regression Results                            \n",
       "==============================================================================\n",
       "Dep. Variable:                 Nrides   R-squared:                       0.424\n",
       "Model:                            OLS   Adj. R-squared:                  0.401\n",
       "Method:                 Least Squares   F-statistic:                     18.39\n",
       "Date:                Tue, 25 Oct 2016   Prob (F-statistic):           0.000235\n",
       "Time:                        13:31:42   Log-Likelihood:                -299.25\n",
       "No. Observations:                  27   AIC:                             602.5\n",
       "Df Residuals:                      25   BIC:                             605.1\n",
       "Df Model:                           1                                         \n",
       "Covariance Type:            nonrobust                                         \n",
       "==============================================================================\n",
       "                 coef    std err          t      P>|t|      [95.0% Conf. Int.]\n",
       "------------------------------------------------------------------------------\n",
       "Intercept   5040.7282   5768.708      0.874      0.391     -6840.148  1.69e+04\n",
       "income         0.0060      0.001      4.289      0.000         0.003     0.009\n",
       "==============================================================================\n",
       "Omnibus:                        1.783   Durbin-Watson:                   1.241\n",
       "Prob(Omnibus):                  0.410   Jarque-Bera (JB):                1.567\n",
       "Skew:                           0.547   Prob(JB):                        0.457\n",
       "Kurtosis:                       2.555   Cond. No.                     7.59e+06\n",
       "==============================================================================\n",
       "\n",
       "Warnings:\n",
       "[1] Standard Errors assume that the covariance matrix of the errors is correctly specified.\n",
       "[2] The condition number is large, 7.59e+06. This might indicate that there are\n",
       "strong multicollinearity or other numerical problems.\n",
       "\"\"\""
      ]
     },
     "execution_count": 323,
     "metadata": {},
     "output_type": "execute_result"
    },
    {
     "data": {
      "image/png": "[encoded data removed]",
      "text/plain": [
       "<matplotlib.figure.Figure at 0x7f2a7b0bf210>"
      ]
     },
     "metadata": {},
     "output_type": "display_data"
    }
   ],
   "source": [
    "cb2.plot.scatter(y=\"Nrides\", x=\"income\", label=\"original data\")\n",
    "pl.title(\"ridership vs AGI\", fontsize = 10)\n",
    "regression = smf.ols(\"Nrides ~ income\", data=cb2).fit()\n",
    "x_line = np.linspace(0,1*1e7,10000)\n",
    "x = pd.DataFrame({\"income\":x_line})\n",
    "Y = regression.predict(x)\n",
    "pl.plot(x_line,Y, label=\"fitted line\")\n",
    "pl.legend(loc=\"best\")\n",
    "regression.summary()"
   ]
  },
  {
   "cell_type": "markdown",
   "metadata": {},
   "source": [
    "##### Figure.2: Remove the income data that is too high specifically over $10^7$, and replot and refit the data, as is shown in the plot result gets better and p-value of coefficient for income gets siginifiantly smaller"
   ]
  },
  {
   "cell_type": "code",
   "execution_count": 324,
   "metadata": {
    "collapsed": false
   },
   "outputs": [
    {
     "name": "stderr",
     "output_type": "stream",
     "text": [
      "/opt/rh/anaconda/root/envs/PUI2016_Python2/lib/python2.7/site-packages/ipykernel/__main__.py:1: SettingWithCopyWarning: \n",
      "A value is trying to be set on a copy of a slice from a DataFrame.\n",
      "Try using .loc[row_indexer,col_indexer] = value instead\n",
      "\n",
      "See the caveats in the documentation: http://pandas.pydata.org/pandas-docs/stable/indexing.html#indexing-view-versus-copy\n",
      "  if __name__ == '__main__':\n"
     ]
    }
   ],
   "source": [
    "cb2[\"x2\"] = cb2[\"income\"]**2"
   ]
  },
  {
   "cell_type": "code",
   "execution_count": 325,
   "metadata": {
    "collapsed": false
   },
   "outputs": [
    {
     "data": {
      "text/html": [
       "<div>\n",
       "<table border=\"1\" class=\"dataframe\">\n",
       "  <thead>\n",
       "    <tr style=\"text-align: right;\">\n",
       "      <th></th>\n",
       "      <th>N</th>\n",
       "      <th>dependents</th>\n",
       "      <th>income</th>\n",
       "      <th>join</th>\n",
       "      <th>zipcodes</th>\n",
       "      <th>incomePC</th>\n",
       "      <th>Nrides</th>\n",
       "      <th>x2</th>\n",
       "    </tr>\n",
       "  </thead>\n",
       "  <tbody>\n",
       "    <tr>\n",
       "      <th>0</th>\n",
       "      <td>14080.0</td>\n",
       "      <td>3250.0</td>\n",
       "      <td>2363960.0</td>\n",
       "      <td>2410.0</td>\n",
       "      <td>10001</td>\n",
       "      <td>119.754813</td>\n",
       "      <td>51691</td>\n",
       "      <td>5.588307e+12</td>\n",
       "    </tr>\n",
       "    <tr>\n",
       "      <th>1</th>\n",
       "      <td>43370.0</td>\n",
       "      <td>19160.0</td>\n",
       "      <td>2215542.0</td>\n",
       "      <td>11040.0</td>\n",
       "      <td>10002</td>\n",
       "      <td>30.114748</td>\n",
       "      <td>45970</td>\n",
       "      <td>4.908626e+12</td>\n",
       "    </tr>\n",
       "    <tr>\n",
       "      <th>2</th>\n",
       "      <td>29810.0</td>\n",
       "      <td>4790.0</td>\n",
       "      <td>6910992.0</td>\n",
       "      <td>5460.0</td>\n",
       "      <td>10003</td>\n",
       "      <td>172.516026</td>\n",
       "      <td>74663</td>\n",
       "      <td>4.776181e+13</td>\n",
       "    </tr>\n",
       "    <tr>\n",
       "      <th>3</th>\n",
       "      <td>2540.0</td>\n",
       "      <td>1130.0</td>\n",
       "      <td>925417.0</td>\n",
       "      <td>840.0</td>\n",
       "      <td>10004</td>\n",
       "      <td>205.192239</td>\n",
       "      <td>13698</td>\n",
       "      <td>8.563966e+11</td>\n",
       "    </tr>\n",
       "    <tr>\n",
       "      <th>4</th>\n",
       "      <td>5890.0</td>\n",
       "      <td>1340.0</td>\n",
       "      <td>5545849.0</td>\n",
       "      <td>1340.0</td>\n",
       "      <td>10005</td>\n",
       "      <td>647.123571</td>\n",
       "      <td>9631</td>\n",
       "      <td>3.075644e+13</td>\n",
       "    </tr>\n",
       "  </tbody>\n",
       "</table>\n",
       "</div>"
      ],
      "text/plain": [
       "         N  dependents     income     join  zipcodes    incomePC  Nrides  \\\n",
       "0  14080.0      3250.0  2363960.0   2410.0     10001  119.754813   51691   \n",
       "1  43370.0     19160.0  2215542.0  11040.0     10002   30.114748   45970   \n",
       "2  29810.0      4790.0  6910992.0   5460.0     10003  172.516026   74663   \n",
       "3   2540.0      1130.0   925417.0    840.0     10004  205.192239   13698   \n",
       "4   5890.0      1340.0  5545849.0   1340.0     10005  647.123571    9631   \n",
       "\n",
       "             x2  \n",
       "0  5.588307e+12  \n",
       "1  4.908626e+12  \n",
       "2  4.776181e+13  \n",
       "3  8.563966e+11  \n",
       "4  3.075644e+13  "
      ]
     },
     "execution_count": 325,
     "metadata": {},
     "output_type": "execute_result"
    }
   ],
   "source": [
    "cb2.head()"
   ]
  },
  {
   "cell_type": "code",
   "execution_count": 326,
   "metadata": {
    "collapsed": false,
    "scrolled": false
   },
   "outputs": [
    {
     "data": {
      "text/plain": [
       "<matplotlib.legend.Legend at 0x7f2a8ef902d0>"
      ]
     },
     "execution_count": 326,
     "metadata": {},
     "output_type": "execute_result"
    },
    {
     "data": {
      "image/png": "[encoded data removed]",
      "text/plain": [
       "<matplotlib.figure.Figure at 0x7f2ac987a450>"
      ]
     },
     "metadata": {},
     "output_type": "display_data"
    }
   ],
   "source": [
    "cb2.plot.scatter(y=\"Nrides\", x=\"income\", label=\"original data\")\n",
    "pl.title(\"ridership vs AGI\", fontsize = 10)\n",
    "regression = smf.ols(\"Nrides ~ income + x2\", data=cb2).fit()\n",
    "x_line = np.linspace(0,1.2*1e7,10000)\n",
    "x = pd.DataFrame({\"income\":x_line, \"x2\": x_line**2})\n",
    "Y = regression.predict(x)\n",
    "pl.plot(x_line,Y, label=\"2nd polynomial\")\n",
    "regression = smf.ols(\"Nrides ~ income\", data=cb2).fit()\n",
    "x_line = np.linspace(0,1*1e7,10000)\n",
    "x = pd.DataFrame({\"income\":x_line})\n",
    "Y = regression.predict(x)\n",
    "pl.plot(x_line,Y, label=\"linear line\")\n",
    "pl.legend(loc=\"upper left\")"
   ]
  },
  {
   "cell_type": "markdown",
   "metadata": {},
   "source": [
    "##### Figure.3: plot both linear and quadratic function "
   ]
  },
  {
   "cell_type": "markdown",
   "metadata": {},
   "source": [
    "#### 2nd polynomial function increase too fast with the income, it seems not so practical"
   ]
  },
  {
   "cell_type": "markdown",
   "metadata": {},
   "source": [
    "### To test which model is better I use the compare_lr_test fucntion in python choose $\\alpha=0.05$"
   ]
  },
  {
   "cell_type": "code",
   "execution_count": 327,
   "metadata": {
    "collapsed": false
   },
   "outputs": [
    {
     "data": {
      "text/plain": [
       "(0.71860081044269464, 0.39660325252486295, 1.0)"
      ]
     },
     "execution_count": 327,
     "metadata": {},
     "output_type": "execute_result"
    }
   ],
   "source": [
    "smf.ols(\"Nrides ~ income + x2\", data=cb2).fit().compare_lr_test(smf.ols(\"Nrides ~ income\", data=cb2).fit())"
   ]
  },
  {
   "cell_type": "markdown",
   "metadata": {},
   "source": [
    "### From the p-value we can see that it larger than 0.05 so, linear function is better"
   ]
  },
  {
   "cell_type": "markdown",
   "metadata": {},
   "source": [
    "### the test result prove the guess, we should use linear fit"
   ]
  },
  {
   "cell_type": "markdown",
   "metadata": {},
   "source": [
    "\n",
    "\n"
   ]
  },
  {
   "cell_type": "code",
   "execution_count": 330,
   "metadata": {
    "collapsed": false,
    "scrolled": false
   },
   "outputs": [
    {
     "name": "stderr",
     "output_type": "stream",
     "text": [
      "/opt/rh/anaconda/root/envs/PUI2016_Python2/lib/python2.7/site-packages/ipykernel/__main__.py:18: SettingWithCopyWarning: \n",
      "A value is trying to be set on a copy of a slice from a DataFrame\n",
      "\n",
      "See the caveats in the documentation: http://pandas.pydata.org/pandas-docs/stable/indexing.html#indexing-view-versus-copy\n"
     ]
    },
    {
     "data": {
      "text/html": [
       "<div>\n",
       "<table border=\"1\" class=\"dataframe\">\n",
       "  <thead>\n",
       "    <tr style=\"text-align: right;\">\n",
       "      <th></th>\n",
       "      <th>tripduration</th>\n",
       "      <th>starttime</th>\n",
       "      <th>stoptime</th>\n",
       "      <th>start station id</th>\n",
       "      <th>start station name</th>\n",
       "      <th>start station latitude</th>\n",
       "      <th>start station longitude</th>\n",
       "      <th>end station id</th>\n",
       "      <th>end station name</th>\n",
       "      <th>end station latitude</th>\n",
       "      <th>end station longitude</th>\n",
       "      <th>bikeid</th>\n",
       "      <th>usertype</th>\n",
       "      <th>birth year</th>\n",
       "      <th>gender</th>\n",
       "      <th>zipcodes</th>\n",
       "    </tr>\n",
       "  </thead>\n",
       "  <tbody>\n",
       "    <tr>\n",
       "      <th>0</th>\n",
       "      <td>923</td>\n",
       "      <td>1/1/2016 00:00:41</td>\n",
       "      <td>1/1/2016 00:16:04</td>\n",
       "      <td>268</td>\n",
       "      <td>Howard St &amp; Centre St</td>\n",
       "      <td>40.719105</td>\n",
       "      <td>-73.999733</td>\n",
       "      <td>3002</td>\n",
       "      <td>South End Ave &amp; Liberty St</td>\n",
       "      <td>40.711512</td>\n",
       "      <td>-74.015756</td>\n",
       "      <td>22285</td>\n",
       "      <td>Subscriber</td>\n",
       "      <td>1958.0</td>\n",
       "      <td>1</td>\n",
       "      <td>10013</td>\n",
       "    </tr>\n",
       "    <tr>\n",
       "      <th>1</th>\n",
       "      <td>379</td>\n",
       "      <td>1/1/2016 00:00:45</td>\n",
       "      <td>1/1/2016 00:07:04</td>\n",
       "      <td>476</td>\n",
       "      <td>E 31 St &amp; 3 Ave</td>\n",
       "      <td>40.743943</td>\n",
       "      <td>-73.979661</td>\n",
       "      <td>498</td>\n",
       "      <td>Broadway &amp; W 32 St</td>\n",
       "      <td>40.748549</td>\n",
       "      <td>-73.988084</td>\n",
       "      <td>17827</td>\n",
       "      <td>Subscriber</td>\n",
       "      <td>1969.0</td>\n",
       "      <td>1</td>\n",
       "      <td>10016</td>\n",
       "    </tr>\n",
       "    <tr>\n",
       "      <th>2</th>\n",
       "      <td>589</td>\n",
       "      <td>1/1/2016 00:00:48</td>\n",
       "      <td>1/1/2016 00:10:37</td>\n",
       "      <td>489</td>\n",
       "      <td>10 Ave &amp; W 28 St</td>\n",
       "      <td>40.750664</td>\n",
       "      <td>-74.001768</td>\n",
       "      <td>284</td>\n",
       "      <td>Greenwich Ave &amp; 8 Ave</td>\n",
       "      <td>40.739017</td>\n",
       "      <td>-74.002638</td>\n",
       "      <td>21997</td>\n",
       "      <td>Subscriber</td>\n",
       "      <td>1982.0</td>\n",
       "      <td>2</td>\n",
       "      <td>10001</td>\n",
       "    </tr>\n",
       "    <tr>\n",
       "      <th>3</th>\n",
       "      <td>889</td>\n",
       "      <td>1/1/2016 00:01:06</td>\n",
       "      <td>1/1/2016 00:15:56</td>\n",
       "      <td>268</td>\n",
       "      <td>Howard St &amp; Centre St</td>\n",
       "      <td>40.719105</td>\n",
       "      <td>-73.999733</td>\n",
       "      <td>3002</td>\n",
       "      <td>South End Ave &amp; Liberty St</td>\n",
       "      <td>40.711512</td>\n",
       "      <td>-74.015756</td>\n",
       "      <td>22794</td>\n",
       "      <td>Subscriber</td>\n",
       "      <td>1961.0</td>\n",
       "      <td>2</td>\n",
       "      <td>10013</td>\n",
       "    </tr>\n",
       "    <tr>\n",
       "      <th>4</th>\n",
       "      <td>1480</td>\n",
       "      <td>1/1/2016 00:01:12</td>\n",
       "      <td>1/1/2016 00:25:52</td>\n",
       "      <td>2006</td>\n",
       "      <td>Central Park S &amp; 6 Ave</td>\n",
       "      <td>40.765909</td>\n",
       "      <td>-73.976342</td>\n",
       "      <td>2006</td>\n",
       "      <td>Central Park S &amp; 6 Ave</td>\n",
       "      <td>40.765909</td>\n",
       "      <td>-73.976342</td>\n",
       "      <td>14562</td>\n",
       "      <td>Subscriber</td>\n",
       "      <td>1952.0</td>\n",
       "      <td>1</td>\n",
       "      <td>10019</td>\n",
       "    </tr>\n",
       "  </tbody>\n",
       "</table>\n",
       "</div>"
      ],
      "text/plain": [
       "   tripduration          starttime           stoptime  start station id  \\\n",
       "0           923  1/1/2016 00:00:41  1/1/2016 00:16:04               268   \n",
       "1           379  1/1/2016 00:00:45  1/1/2016 00:07:04               476   \n",
       "2           589  1/1/2016 00:00:48  1/1/2016 00:10:37               489   \n",
       "3           889  1/1/2016 00:01:06  1/1/2016 00:15:56               268   \n",
       "4          1480  1/1/2016 00:01:12  1/1/2016 00:25:52              2006   \n",
       "\n",
       "       start station name  start station latitude  start station longitude  \\\n",
       "0   Howard St & Centre St               40.719105               -73.999733   \n",
       "1         E 31 St & 3 Ave               40.743943               -73.979661   \n",
       "2        10 Ave & W 28 St               40.750664               -74.001768   \n",
       "3   Howard St & Centre St               40.719105               -73.999733   \n",
       "4  Central Park S & 6 Ave               40.765909               -73.976342   \n",
       "\n",
       "   end station id            end station name  end station latitude  \\\n",
       "0            3002  South End Ave & Liberty St             40.711512   \n",
       "1             498          Broadway & W 32 St             40.748549   \n",
       "2             284       Greenwich Ave & 8 Ave             40.739017   \n",
       "3            3002  South End Ave & Liberty St             40.711512   \n",
       "4            2006      Central Park S & 6 Ave             40.765909   \n",
       "\n",
       "   end station longitude  bikeid    usertype  birth year  gender zipcodes  \n",
       "0             -74.015756   22285  Subscriber      1958.0       1    10013  \n",
       "1             -73.988084   17827  Subscriber      1969.0       1    10016  \n",
       "2             -74.002638   21997  Subscriber      1982.0       2    10001  \n",
       "3             -74.015756   22794  Subscriber      1961.0       2    10013  \n",
       "4             -73.976342   14562  Subscriber      1952.0       1    10019  "
      ]
     },
     "execution_count": 330,
     "metadata": {},
     "output_type": "execute_result"
    }
   ],
   "source": [
    "a = (cb2016[['start station latitude', \n",
    "                'start station longitude']].values.astype(float))\n",
    "len(a)\n",
    "zipcodesDF = pd.DataFrame()\n",
    "\n",
    "cb2016['zipcodes'] = np.zeros(len(cb2016))\n",
    "for latlon in pd.DataFrame(a).drop_duplicates().values:\n",
    "    url = (\"https://maps.googleapis.com/maps/api/geocode/json?latlng=\" +\n",
    "           \"%f,%f&key=%s\"%(\n",
    "            latlon[0], latlon[1], myAPI[\"myAPI\"]))\n",
    "    #print (latlon, url)\n",
    "    #print (get_jsonparsed_data(url))\n",
    "    response = urllib.urlopen(url)\n",
    "    data = response.read().decode(\"utf-8\")\n",
    "    revgeo = json.loads(data)[\"results\"][0]['address_components'][-1]\n",
    "    #print (revgeo)\n",
    "    cb2016['zipcodes'][(cb2016['start station latitude'] == latlon[0]) * \n",
    "           (cb2016['start station longitude'] == latlon[1])] = revgeo['long_name']\n",
    "cb2016.head()"
   ]
  },
  {
   "cell_type": "code",
   "execution_count": 331,
   "metadata": {
    "collapsed": false
   },
   "outputs": [],
   "source": [
    "cbgroup_2016 = cb2016.groupby(cb2016.zipcodes).count()\n",
    "cbgroup_2016 = cbgroup_2016[cbgroup_2016.index.astype(int)>9999]\n",
    "cbgroup_2016 = cbgroup_2016.reset_index()\n",
    "cbgroup_2016.zipcodes = cbgroup_2016.zipcodes.apply(lambda x: int(x))\n",
    "cbincome_2016 = pd.merge(zipincome, cbgroup_2016[[\"zipcodes\",\"tripduration\"]], on=['zipcodes'])\n",
    "cbincome_2016.rename(columns={'tripduration':'Nrides'}, inplace=True)"
   ]
  },
  {
   "cell_type": "code",
   "execution_count": 332,
   "metadata": {
    "collapsed": false,
    "scrolled": false
   },
   "outputs": [
    {
     "data": {
      "text/html": [
       "<table class=\"simpletable\">\n",
       "<caption>OLS Regression Results</caption>\n",
       "<tr>\n",
       "  <th>Dep. Variable:</th>         <td>Nrides</td>      <th>  R-squared:         </th> <td>   0.096</td>\n",
       "</tr>\n",
       "<tr>\n",
       "  <th>Model:</th>                   <td>OLS</td>       <th>  Adj. R-squared:    </th> <td>   0.074</td>\n",
       "</tr>\n",
       "<tr>\n",
       "  <th>Method:</th>             <td>Least Squares</td>  <th>  F-statistic:       </th> <td>   4.270</td>\n",
       "</tr>\n",
       "<tr>\n",
       "  <th>Date:</th>             <td>Tue, 25 Oct 2016</td> <th>  Prob (F-statistic):</th>  <td>0.0453</td> \n",
       "</tr>\n",
       "<tr>\n",
       "  <th>Time:</th>                 <td>13:39:34</td>     <th>  Log-Likelihood:    </th> <td> -442.32</td>\n",
       "</tr>\n",
       "<tr>\n",
       "  <th>No. Observations:</th>      <td>    42</td>      <th>  AIC:               </th> <td>   888.6</td>\n",
       "</tr>\n",
       "<tr>\n",
       "  <th>Df Residuals:</th>          <td>    40</td>      <th>  BIC:               </th> <td>   892.1</td>\n",
       "</tr>\n",
       "<tr>\n",
       "  <th>Df Model:</th>              <td>     1</td>      <th>                     </th>     <td> </td>   \n",
       "</tr>\n",
       "<tr>\n",
       "  <th>Covariance Type:</th>      <td>nonrobust</td>    <th>                     </th>     <td> </td>   \n",
       "</tr>\n",
       "</table>\n",
       "<table class=\"simpletable\">\n",
       "<tr>\n",
       "      <td></td>         <th>coef</th>     <th>std err</th>      <th>t</th>      <th>P>|t|</th> <th>[95.0% Conf. Int.]</th> \n",
       "</tr>\n",
       "<tr>\n",
       "  <th>Intercept</th> <td> 5809.8879</td> <td> 2232.179</td> <td>    2.603</td> <td> 0.013</td> <td> 1298.486  1.03e+04</td>\n",
       "</tr>\n",
       "<tr>\n",
       "  <th>income</th>    <td>    0.0009</td> <td>    0.000</td> <td>    2.066</td> <td> 0.045</td> <td> 1.87e-05     0.002</td>\n",
       "</tr>\n",
       "</table>\n",
       "<table class=\"simpletable\">\n",
       "<tr>\n",
       "  <th>Omnibus:</th>       <td>15.992</td> <th>  Durbin-Watson:     </th> <td>   0.965</td>\n",
       "</tr>\n",
       "<tr>\n",
       "  <th>Prob(Omnibus):</th> <td> 0.000</td> <th>  Jarque-Bera (JB):  </th> <td>  17.980</td>\n",
       "</tr>\n",
       "<tr>\n",
       "  <th>Skew:</th>          <td> 1.398</td> <th>  Prob(JB):          </th> <td>0.000125</td>\n",
       "</tr>\n",
       "<tr>\n",
       "  <th>Kurtosis:</th>      <td> 4.568</td> <th>  Cond. No.          </th> <td>8.43e+06</td>\n",
       "</tr>\n",
       "</table>"
      ],
      "text/plain": [
       "<class 'statsmodels.iolib.summary.Summary'>\n",
       "\"\"\"\n",
       "                            OLS Regression Results                            \n",
       "==============================================================================\n",
       "Dep. Variable:                 Nrides   R-squared:                       0.096\n",
       "Model:                            OLS   Adj. R-squared:                  0.074\n",
       "Method:                 Least Squares   F-statistic:                     4.270\n",
       "Date:                Tue, 25 Oct 2016   Prob (F-statistic):             0.0453\n",
       "Time:                        13:39:34   Log-Likelihood:                -442.32\n",
       "No. Observations:                  42   AIC:                             888.6\n",
       "Df Residuals:                      40   BIC:                             892.1\n",
       "Df Model:                           1                                         \n",
       "Covariance Type:            nonrobust                                         \n",
       "==============================================================================\n",
       "                 coef    std err          t      P>|t|      [95.0% Conf. Int.]\n",
       "------------------------------------------------------------------------------\n",
       "Intercept   5809.8879   2232.179      2.603      0.013      1298.486  1.03e+04\n",
       "income         0.0009      0.000      2.066      0.045      1.87e-05     0.002\n",
       "==============================================================================\n",
       "Omnibus:                       15.992   Durbin-Watson:                   0.965\n",
       "Prob(Omnibus):                  0.000   Jarque-Bera (JB):               17.980\n",
       "Skew:                           1.398   Prob(JB):                     0.000125\n",
       "Kurtosis:                       4.568   Cond. No.                     8.43e+06\n",
       "==============================================================================\n",
       "\n",
       "Warnings:\n",
       "[1] Standard Errors assume that the covariance matrix of the errors is correctly specified.\n",
       "[2] The condition number is large, 8.43e+06. This might indicate that there are\n",
       "strong multicollinearity or other numerical problems.\n",
       "\"\"\""
      ]
     },
     "execution_count": 332,
     "metadata": {},
     "output_type": "execute_result"
    },
    {
     "data": {
      "image/png": "[encoded data removed]",
      "text/plain": [
       "<matplotlib.figure.Figure at 0x7f2a7b1d6790>"
      ]
     },
     "metadata": {},
     "output_type": "display_data"
    }
   ],
   "source": [
    "cbincome_2016.plot.scatter(y=\"Nrides\", x=\"income\", label=\"original data\")\n",
    "pl.title(\"ridership vs AGI 2016\", fontsize = 10)\n",
    "regression = smf.ols(\"Nrides ~ income\", data=cbincome_2016).fit()\n",
    "x_line = np.arange(0,2*1e7,10000)\n",
    "x = pd.DataFrame({\"income\":x_line})\n",
    "Y = regression.predict(x)\n",
    "pl.plot(x_line,Y, label=\"fitted line\")\n",
    "pl.legend(loc=\"best\")\n",
    "regression.summary()"
   ]
  },
  {
   "cell_type": "code",
   "execution_count": 337,
   "metadata": {
    "collapsed": true
   },
   "outputs": [],
   "source": [
    "## drop the outliers\n",
    "mask = cbincome_2016.income>1e7\n",
    "cb2016 = cbincome_2016[~mask]"
   ]
  },
  {
   "cell_type": "code",
   "execution_count": 338,
   "metadata": {
    "collapsed": false
   },
   "outputs": [
    {
     "data": {
      "text/html": [
       "<table class=\"simpletable\">\n",
       "<caption>OLS Regression Results</caption>\n",
       "<tr>\n",
       "  <th>Dep. Variable:</th>         <td>Nrides</td>      <th>  R-squared:         </th> <td>   0.254</td>\n",
       "</tr>\n",
       "<tr>\n",
       "  <th>Model:</th>                   <td>OLS</td>       <th>  Adj. R-squared:    </th> <td>   0.234</td>\n",
       "</tr>\n",
       "<tr>\n",
       "  <th>Method:</th>             <td>Least Squares</td>  <th>  F-statistic:       </th> <td>   12.28</td>\n",
       "</tr>\n",
       "<tr>\n",
       "  <th>Date:</th>             <td>Tue, 25 Oct 2016</td> <th>  Prob (F-statistic):</th>  <td>0.00124</td>\n",
       "</tr>\n",
       "<tr>\n",
       "  <th>Time:</th>                 <td>13:43:51</td>     <th>  Log-Likelihood:    </th> <td> -398.14</td>\n",
       "</tr>\n",
       "<tr>\n",
       "  <th>No. Observations:</th>      <td>    38</td>      <th>  AIC:               </th> <td>   800.3</td>\n",
       "</tr>\n",
       "<tr>\n",
       "  <th>Df Residuals:</th>          <td>    36</td>      <th>  BIC:               </th> <td>   803.5</td>\n",
       "</tr>\n",
       "<tr>\n",
       "  <th>Df Model:</th>              <td>     1</td>      <th>                     </th>     <td> </td>   \n",
       "</tr>\n",
       "<tr>\n",
       "  <th>Covariance Type:</th>      <td>nonrobust</td>    <th>                     </th>     <td> </td>   \n",
       "</tr>\n",
       "</table>\n",
       "<table class=\"simpletable\">\n",
       "<tr>\n",
       "      <td></td>         <th>coef</th>     <th>std err</th>      <th>t</th>      <th>P>|t|</th> <th>[95.0% Conf. Int.]</th> \n",
       "</tr>\n",
       "<tr>\n",
       "  <th>Intercept</th> <td> 2958.5371</td> <td> 2359.310</td> <td>    1.254</td> <td> 0.218</td> <td>-1826.365  7743.439</td>\n",
       "</tr>\n",
       "<tr>\n",
       "  <th>income</th>    <td>    0.0020</td> <td>    0.001</td> <td>    3.505</td> <td> 0.001</td> <td>    0.001     0.003</td>\n",
       "</tr>\n",
       "</table>\n",
       "<table class=\"simpletable\">\n",
       "<tr>\n",
       "  <th>Omnibus:</th>       <td> 7.121</td> <th>  Durbin-Watson:     </th> <td>   1.134</td>\n",
       "</tr>\n",
       "<tr>\n",
       "  <th>Prob(Omnibus):</th> <td> 0.028</td> <th>  Jarque-Bera (JB):  </th> <td>   5.723</td>\n",
       "</tr>\n",
       "<tr>\n",
       "  <th>Skew:</th>          <td> 0.850</td> <th>  Prob(JB):          </th> <td>  0.0572</td>\n",
       "</tr>\n",
       "<tr>\n",
       "  <th>Kurtosis:</th>      <td> 3.851</td> <th>  Cond. No.          </th> <td>6.94e+06</td>\n",
       "</tr>\n",
       "</table>"
      ],
      "text/plain": [
       "<class 'statsmodels.iolib.summary.Summary'>\n",
       "\"\"\"\n",
       "                            OLS Regression Results                            \n",
       "==============================================================================\n",
       "Dep. Variable:                 Nrides   R-squared:                       0.254\n",
       "Model:                            OLS   Adj. R-squared:                  0.234\n",
       "Method:                 Least Squares   F-statistic:                     12.28\n",
       "Date:                Tue, 25 Oct 2016   Prob (F-statistic):            0.00124\n",
       "Time:                        13:43:51   Log-Likelihood:                -398.14\n",
       "No. Observations:                  38   AIC:                             800.3\n",
       "Df Residuals:                      36   BIC:                             803.5\n",
       "Df Model:                           1                                         \n",
       "Covariance Type:            nonrobust                                         \n",
       "==============================================================================\n",
       "                 coef    std err          t      P>|t|      [95.0% Conf. Int.]\n",
       "------------------------------------------------------------------------------\n",
       "Intercept   2958.5371   2359.310      1.254      0.218     -1826.365  7743.439\n",
       "income         0.0020      0.001      3.505      0.001         0.001     0.003\n",
       "==============================================================================\n",
       "Omnibus:                        7.121   Durbin-Watson:                   1.134\n",
       "Prob(Omnibus):                  0.028   Jarque-Bera (JB):                5.723\n",
       "Skew:                           0.850   Prob(JB):                       0.0572\n",
       "Kurtosis:                       3.851   Cond. No.                     6.94e+06\n",
       "==============================================================================\n",
       "\n",
       "Warnings:\n",
       "[1] Standard Errors assume that the covariance matrix of the errors is correctly specified.\n",
       "[2] The condition number is large, 6.94e+06. This might indicate that there are\n",
       "strong multicollinearity or other numerical problems.\n",
       "\"\"\""
      ]
     },
     "execution_count": 338,
     "metadata": {},
     "output_type": "execute_result"
    },
    {
     "data": {
      "image/png": "[encoded data removed]",
      "text/plain": [
       "<matplotlib.figure.Figure at 0x7f2a7c5226d0>"
      ]
     },
     "metadata": {},
     "output_type": "display_data"
    }
   ],
   "source": [
    "cb2016.plot.scatter(y=\"Nrides\", x=\"income\", label=\"original data\")\n",
    "pl.title(\"ridership vs AGI 2016 without outliers\", fontsize = 10)\n",
    "regression = smf.ols(\"Nrides ~ income\", data=cb2016).fit()\n",
    "x_line = np.linspace(0,1*1e7,10000)\n",
    "x = pd.DataFrame({\"income\":x_line})\n",
    "Y = regression.predict(x)\n",
    "pl.plot(x_line,Y, label=\"fitted line\")\n",
    "pl.legend(loc=\"best\")\n",
    "regression.summary()"
   ]
  },
  {
   "cell_type": "code",
   "execution_count": 339,
   "metadata": {
    "collapsed": false,
    "scrolled": true
   },
   "outputs": [
    {
     "name": "stderr",
     "output_type": "stream",
     "text": [
      "/opt/rh/anaconda/root/envs/PUI2016_Python2/lib/python2.7/site-packages/ipykernel/__main__.py:1: SettingWithCopyWarning: \n",
      "A value is trying to be set on a copy of a slice from a DataFrame.\n",
      "Try using .loc[row_indexer,col_indexer] = value instead\n",
      "\n",
      "See the caveats in the documentation: http://pandas.pydata.org/pandas-docs/stable/indexing.html#indexing-view-versus-copy\n",
      "  if __name__ == '__main__':\n"
     ]
    }
   ],
   "source": [
    "cb2016[\"x2\"] = cb2016[\"income\"]**2"
   ]
  },
  {
   "cell_type": "code",
   "execution_count": 340,
   "metadata": {
    "collapsed": false,
    "scrolled": false
   },
   "outputs": [
    {
     "data": {
      "text/html": [
       "<table class=\"simpletable\">\n",
       "<caption>OLS Regression Results</caption>\n",
       "<tr>\n",
       "  <th>Dep. Variable:</th>         <td>Nrides</td>      <th>  R-squared:         </th> <td>   0.254</td>\n",
       "</tr>\n",
       "<tr>\n",
       "  <th>Model:</th>                   <td>OLS</td>       <th>  Adj. R-squared:    </th> <td>   0.234</td>\n",
       "</tr>\n",
       "<tr>\n",
       "  <th>Method:</th>             <td>Least Squares</td>  <th>  F-statistic:       </th> <td>   12.28</td>\n",
       "</tr>\n",
       "<tr>\n",
       "  <th>Date:</th>             <td>Tue, 25 Oct 2016</td> <th>  Prob (F-statistic):</th>  <td>0.00124</td>\n",
       "</tr>\n",
       "<tr>\n",
       "  <th>Time:</th>                 <td>13:43:56</td>     <th>  Log-Likelihood:    </th> <td> -398.14</td>\n",
       "</tr>\n",
       "<tr>\n",
       "  <th>No. Observations:</th>      <td>    38</td>      <th>  AIC:               </th> <td>   800.3</td>\n",
       "</tr>\n",
       "<tr>\n",
       "  <th>Df Residuals:</th>          <td>    36</td>      <th>  BIC:               </th> <td>   803.5</td>\n",
       "</tr>\n",
       "<tr>\n",
       "  <th>Df Model:</th>              <td>     1</td>      <th>                     </th>     <td> </td>   \n",
       "</tr>\n",
       "<tr>\n",
       "  <th>Covariance Type:</th>      <td>nonrobust</td>    <th>                     </th>     <td> </td>   \n",
       "</tr>\n",
       "</table>\n",
       "<table class=\"simpletable\">\n",
       "<tr>\n",
       "      <td></td>         <th>coef</th>     <th>std err</th>      <th>t</th>      <th>P>|t|</th> <th>[95.0% Conf. Int.]</th> \n",
       "</tr>\n",
       "<tr>\n",
       "  <th>Intercept</th> <td> 2958.5371</td> <td> 2359.310</td> <td>    1.254</td> <td> 0.218</td> <td>-1826.365  7743.439</td>\n",
       "</tr>\n",
       "<tr>\n",
       "  <th>income</th>    <td>    0.0020</td> <td>    0.001</td> <td>    3.505</td> <td> 0.001</td> <td>    0.001     0.003</td>\n",
       "</tr>\n",
       "</table>\n",
       "<table class=\"simpletable\">\n",
       "<tr>\n",
       "  <th>Omnibus:</th>       <td> 7.121</td> <th>  Durbin-Watson:     </th> <td>   1.134</td>\n",
       "</tr>\n",
       "<tr>\n",
       "  <th>Prob(Omnibus):</th> <td> 0.028</td> <th>  Jarque-Bera (JB):  </th> <td>   5.723</td>\n",
       "</tr>\n",
       "<tr>\n",
       "  <th>Skew:</th>          <td> 0.850</td> <th>  Prob(JB):          </th> <td>  0.0572</td>\n",
       "</tr>\n",
       "<tr>\n",
       "  <th>Kurtosis:</th>      <td> 3.851</td> <th>  Cond. No.          </th> <td>6.94e+06</td>\n",
       "</tr>\n",
       "</table>"
      ],
      "text/plain": [
       "<class 'statsmodels.iolib.summary.Summary'>\n",
       "\"\"\"\n",
       "                            OLS Regression Results                            \n",
       "==============================================================================\n",
       "Dep. Variable:                 Nrides   R-squared:                       0.254\n",
       "Model:                            OLS   Adj. R-squared:                  0.234\n",
       "Method:                 Least Squares   F-statistic:                     12.28\n",
       "Date:                Tue, 25 Oct 2016   Prob (F-statistic):            0.00124\n",
       "Time:                        13:43:56   Log-Likelihood:                -398.14\n",
       "No. Observations:                  38   AIC:                             800.3\n",
       "Df Residuals:                      36   BIC:                             803.5\n",
       "Df Model:                           1                                         \n",
       "Covariance Type:            nonrobust                                         \n",
       "==============================================================================\n",
       "                 coef    std err          t      P>|t|      [95.0% Conf. Int.]\n",
       "------------------------------------------------------------------------------\n",
       "Intercept   2958.5371   2359.310      1.254      0.218     -1826.365  7743.439\n",
       "income         0.0020      0.001      3.505      0.001         0.001     0.003\n",
       "==============================================================================\n",
       "Omnibus:                        7.121   Durbin-Watson:                   1.134\n",
       "Prob(Omnibus):                  0.028   Jarque-Bera (JB):                5.723\n",
       "Skew:                           0.850   Prob(JB):                       0.0572\n",
       "Kurtosis:                       3.851   Cond. No.                     6.94e+06\n",
       "==============================================================================\n",
       "\n",
       "Warnings:\n",
       "[1] Standard Errors assume that the covariance matrix of the errors is correctly specified.\n",
       "[2] The condition number is large, 6.94e+06. This might indicate that there are\n",
       "strong multicollinearity or other numerical problems.\n",
       "\"\"\""
      ]
     },
     "execution_count": 340,
     "metadata": {},
     "output_type": "execute_result"
    },
    {
     "data": {
      "image/png": "[encoded data removed]",
      "text/plain": [
       "<matplotlib.figure.Figure at 0x7f2a8bf02110>"
      ]
     },
     "metadata": {},
     "output_type": "display_data"
    }
   ],
   "source": [
    "cb2016.plot.scatter(y=\"Nrides\", x=\"income\", label=\"original data\")\n",
    "pl.title(\"ridership vs AGI\", fontsize = 10)\n",
    "regression = smf.ols(\"Nrides ~ income + x2\", data=cb2016).fit()\n",
    "x_line = np.linspace(0,1.2*1e7,10000)\n",
    "x = pd.DataFrame({\"income\":x_line, \"x2\": x_line**2})\n",
    "Y = regression.predict(x)\n",
    "pl.plot(x_line,Y, label=\"2nd polynomial\")\n",
    "regression = smf.ols(\"Nrides ~ income\", data=cb2016).fit()\n",
    "x_line = np.linspace(0,1*1e7,10000)\n",
    "x = pd.DataFrame({\"income\":x_line})\n",
    "Y = regression.predict(x)\n",
    "pl.plot(x_line,Y, label=\"linear line\")\n",
    "pl.legend(loc=\"upper left\")\n",
    "regression.summary()"
   ]
  },
  {
   "cell_type": "code",
   "execution_count": 341,
   "metadata": {
    "collapsed": false,
    "scrolled": true
   },
   "outputs": [
    {
     "data": {
      "text/plain": [
       "(3.7017733030505724, 0.054354671319252958, 1.0)"
      ]
     },
     "execution_count": 341,
     "metadata": {},
     "output_type": "execute_result"
    }
   ],
   "source": [
    "smf.ols(\"Nrides ~ income + x2\", data=cb2016).fit().compare_lr_test(smf.ols(\"Nrides ~ income\", data=cb2016).fit())"
   ]
  },
  {
   "cell_type": "markdown",
   "metadata": {},
   "source": [
    "### Still the linear function fits better but 2016 doesn't have obvious outlier, so it actually makes no difference to drop them. "
   ]
  },
  {
   "cell_type": "markdown",
   "metadata": {},
   "source": [
    "\n",
    "\n"
   ]
  },
  {
   "cell_type": "code",
   "execution_count": 267,
   "metadata": {
    "collapsed": false,
    "scrolled": false
   },
   "outputs": [
    {
     "data": {
      "text/plain": [
       "<matplotlib.text.Text at 0x7f2a7dde9ed0>"
      ]
     },
     "execution_count": 267,
     "metadata": {},
     "output_type": "execute_result"
    },
    {
     "data": {
      "image/png": "[encoded data removed]",
      "text/plain": [
       "<matplotlib.figure.Figure at 0x7f2a7b75d150>"
      ]
     },
     "metadata": {},
     "output_type": "display_data"
    }
   ],
   "source": [
    "cbincome.plot.scatter(y=\"Nrides\", x=\"incomePC\", label=\"original data\")\n",
    "pl.title(\"ridership vs IncomePC\", fontsize = 10)"
   ]
  },
  {
   "cell_type": "markdown",
   "metadata": {},
   "source": [
    "##### Figure.4: Nrides vs. incomePc. As is shown here, one point is a outlier."
   ]
  },
  {
   "cell_type": "code",
   "execution_count": 361,
   "metadata": {
    "collapsed": true
   },
   "outputs": [],
   "source": [
    "mask = cb2.incomePC>400\n",
    "cb2 = cb2[~mask]    ## throw away outliers"
   ]
  },
  {
   "cell_type": "code",
   "execution_count": 362,
   "metadata": {
    "collapsed": false,
    "scrolled": false
   },
   "outputs": [
    {
     "data": {
      "text/html": [
       "<table class=\"simpletable\">\n",
       "<caption>OLS Regression Results</caption>\n",
       "<tr>\n",
       "  <th>Dep. Variable:</th>         <td>Nrides</td>      <th>  R-squared:         </th> <td>   0.074</td>\n",
       "</tr>\n",
       "<tr>\n",
       "  <th>Model:</th>                   <td>OLS</td>       <th>  Adj. R-squared:    </th> <td>   0.036</td>\n",
       "</tr>\n",
       "<tr>\n",
       "  <th>Method:</th>             <td>Least Squares</td>  <th>  F-statistic:       </th> <td>   1.923</td>\n",
       "</tr>\n",
       "<tr>\n",
       "  <th>Date:</th>             <td>Tue, 25 Oct 2016</td> <th>  Prob (F-statistic):</th>  <td> 0.178</td> \n",
       "</tr>\n",
       "<tr>\n",
       "  <th>Time:</th>                 <td>14:04:35</td>     <th>  Log-Likelihood:    </th> <td> -294.52</td>\n",
       "</tr>\n",
       "<tr>\n",
       "  <th>No. Observations:</th>      <td>    26</td>      <th>  AIC:               </th> <td>   593.0</td>\n",
       "</tr>\n",
       "<tr>\n",
       "  <th>Df Residuals:</th>          <td>    24</td>      <th>  BIC:               </th> <td>   595.6</td>\n",
       "</tr>\n",
       "<tr>\n",
       "  <th>Df Model:</th>              <td>     1</td>      <th>                     </th>     <td> </td>   \n",
       "</tr>\n",
       "<tr>\n",
       "  <th>Covariance Type:</th>      <td>nonrobust</td>    <th>                     </th>     <td> </td>   \n",
       "</tr>\n",
       "</table>\n",
       "<table class=\"simpletable\">\n",
       "<tr>\n",
       "      <td></td>         <th>coef</th>     <th>std err</th>      <th>t</th>      <th>P>|t|</th> <th>[95.0% Conf. Int.]</th> \n",
       "</tr>\n",
       "<tr>\n",
       "  <th>Intercept</th> <td> 1.654e+04</td> <td> 8202.879</td> <td>    2.016</td> <td> 0.055</td> <td> -391.630  3.35e+04</td>\n",
       "</tr>\n",
       "<tr>\n",
       "  <th>incomePC</th>  <td>   65.3500</td> <td>   47.121</td> <td>    1.387</td> <td> 0.178</td> <td>  -31.903   162.603</td>\n",
       "</tr>\n",
       "</table>\n",
       "<table class=\"simpletable\">\n",
       "<tr>\n",
       "  <th>Omnibus:</th>       <td> 7.298</td> <th>  Durbin-Watson:     </th> <td>   1.368</td>\n",
       "</tr>\n",
       "<tr>\n",
       "  <th>Prob(Omnibus):</th> <td> 0.026</td> <th>  Jarque-Bera (JB):  </th> <td>   5.807</td>\n",
       "</tr>\n",
       "<tr>\n",
       "  <th>Skew:</th>          <td> 1.139</td> <th>  Prob(JB):          </th> <td>  0.0548</td>\n",
       "</tr>\n",
       "<tr>\n",
       "  <th>Kurtosis:</th>      <td> 3.417</td> <th>  Cond. No.          </th> <td>    348.</td>\n",
       "</tr>\n",
       "</table>"
      ],
      "text/plain": [
       "<class 'statsmodels.iolib.summary.Summary'>\n",
       "\"\"\"\n",
       "                            OLS Regression Results                            \n",
       "==============================================================================\n",
       "Dep. Variable:                 Nrides   R-squared:                       0.074\n",
       "Model:                            OLS   Adj. R-squared:                  0.036\n",
       "Method:                 Least Squares   F-statistic:                     1.923\n",
       "Date:                Tue, 25 Oct 2016   Prob (F-statistic):              0.178\n",
       "Time:                        14:04:35   Log-Likelihood:                -294.52\n",
       "No. Observations:                  26   AIC:                             593.0\n",
       "Df Residuals:                      24   BIC:                             595.6\n",
       "Df Model:                           1                                         \n",
       "Covariance Type:            nonrobust                                         \n",
       "==============================================================================\n",
       "                 coef    std err          t      P>|t|      [95.0% Conf. Int.]\n",
       "------------------------------------------------------------------------------\n",
       "Intercept   1.654e+04   8202.879      2.016      0.055      -391.630  3.35e+04\n",
       "incomePC      65.3500     47.121      1.387      0.178       -31.903   162.603\n",
       "==============================================================================\n",
       "Omnibus:                        7.298   Durbin-Watson:                   1.368\n",
       "Prob(Omnibus):                  0.026   Jarque-Bera (JB):                5.807\n",
       "Skew:                           1.139   Prob(JB):                       0.0548\n",
       "Kurtosis:                       3.417   Cond. No.                         348.\n",
       "==============================================================================\n",
       "\n",
       "Warnings:\n",
       "[1] Standard Errors assume that the covariance matrix of the errors is correctly specified.\n",
       "\"\"\""
      ]
     },
     "execution_count": 362,
     "metadata": {},
     "output_type": "execute_result"
    },
    {
     "data": {
      "image/png": "[encoded data removed]",
      "text/plain": [
       "<matplotlib.figure.Figure at 0x7f2a7c071090>"
      ]
     },
     "metadata": {},
     "output_type": "display_data"
    }
   ],
   "source": [
    "cb2.plot.scatter(y=\"Nrides\", x=\"incomePC\", label=\"original data\")\n",
    "pl.title(\"ridership vs IncomePC\", fontsize = 10)\n",
    "regression = smf.ols(\"Nrides ~ incomePC\", data=cb2).fit()\n",
    "x_line = np.linspace(0,400,10000)\n",
    "x = pd.DataFrame({\"incomePC\":x_line})\n",
    "Y = regression.predict(x)\n",
    "pl.plot(x_line, Y, label=\"fitted line\")\n",
    "pl.legend(loc=\"upper left\")\n",
    "regression.summary()"
   ]
  },
  {
   "cell_type": "markdown",
   "metadata": {},
   "source": [
    "##### Figure.5 : First fitted with linear fucntion to the incomePC"
   ]
  },
  {
   "cell_type": "code",
   "execution_count": 363,
   "metadata": {
    "collapsed": false
   },
   "outputs": [],
   "source": [
    "cb2[\"PCx2\"] = cb2[\"incomePC\"]**2"
   ]
  },
  {
   "cell_type": "code",
   "execution_count": 365,
   "metadata": {
    "collapsed": false,
    "scrolled": false
   },
   "outputs": [
    {
     "data": {
      "text/html": [
       "<table class=\"simpletable\">\n",
       "<caption>OLS Regression Results</caption>\n",
       "<tr>\n",
       "  <th>Dep. Variable:</th>         <td>Nrides</td>      <th>  R-squared:         </th> <td>   0.178</td>\n",
       "</tr>\n",
       "<tr>\n",
       "  <th>Model:</th>                   <td>OLS</td>       <th>  Adj. R-squared:    </th> <td>   0.106</td>\n",
       "</tr>\n",
       "<tr>\n",
       "  <th>Method:</th>             <td>Least Squares</td>  <th>  F-statistic:       </th> <td>   2.488</td>\n",
       "</tr>\n",
       "<tr>\n",
       "  <th>Date:</th>             <td>Tue, 25 Oct 2016</td> <th>  Prob (F-statistic):</th>  <td> 0.105</td> \n",
       "</tr>\n",
       "<tr>\n",
       "  <th>Time:</th>                 <td>14:04:52</td>     <th>  Log-Likelihood:    </th> <td> -292.98</td>\n",
       "</tr>\n",
       "<tr>\n",
       "  <th>No. Observations:</th>      <td>    26</td>      <th>  AIC:               </th> <td>   592.0</td>\n",
       "</tr>\n",
       "<tr>\n",
       "  <th>Df Residuals:</th>          <td>    23</td>      <th>  BIC:               </th> <td>   595.7</td>\n",
       "</tr>\n",
       "<tr>\n",
       "  <th>Df Model:</th>              <td>     2</td>      <th>                     </th>     <td> </td>   \n",
       "</tr>\n",
       "<tr>\n",
       "  <th>Covariance Type:</th>      <td>nonrobust</td>    <th>                     </th>     <td> </td>   \n",
       "</tr>\n",
       "</table>\n",
       "<table class=\"simpletable\">\n",
       "<tr>\n",
       "      <td></td>         <th>coef</th>     <th>std err</th>      <th>t</th>      <th>P>|t|</th> <th>[95.0% Conf. Int.]</th> \n",
       "</tr>\n",
       "<tr>\n",
       "  <th>Intercept</th> <td> 1030.8976</td> <td> 1.21e+04</td> <td>    0.086</td> <td> 0.933</td> <td>-2.39e+04   2.6e+04</td>\n",
       "</tr>\n",
       "<tr>\n",
       "  <th>incomePC</th>  <td>  334.3652</td> <td>  164.323</td> <td>    2.035</td> <td> 0.054</td> <td>   -5.563   674.293</td>\n",
       "</tr>\n",
       "<tr>\n",
       "  <th>PCx2</th>      <td>   -0.8263</td> <td>    0.485</td> <td>   -1.703</td> <td> 0.102</td> <td>   -1.830     0.177</td>\n",
       "</tr>\n",
       "</table>\n",
       "<table class=\"simpletable\">\n",
       "<tr>\n",
       "  <th>Omnibus:</th>       <td> 5.628</td> <th>  Durbin-Watson:     </th> <td>   1.492</td>\n",
       "</tr>\n",
       "<tr>\n",
       "  <th>Prob(Omnibus):</th> <td> 0.060</td> <th>  Jarque-Bera (JB):  </th> <td>   4.379</td>\n",
       "</tr>\n",
       "<tr>\n",
       "  <th>Skew:</th>          <td> 1.002</td> <th>  Prob(JB):          </th> <td>   0.112</td>\n",
       "</tr>\n",
       "<tr>\n",
       "  <th>Kurtosis:</th>      <td> 3.171</td> <th>  Cond. No.          </th> <td>1.29e+05</td>\n",
       "</tr>\n",
       "</table>"
      ],
      "text/plain": [
       "<class 'statsmodels.iolib.summary.Summary'>\n",
       "\"\"\"\n",
       "                            OLS Regression Results                            \n",
       "==============================================================================\n",
       "Dep. Variable:                 Nrides   R-squared:                       0.178\n",
       "Model:                            OLS   Adj. R-squared:                  0.106\n",
       "Method:                 Least Squares   F-statistic:                     2.488\n",
       "Date:                Tue, 25 Oct 2016   Prob (F-statistic):              0.105\n",
       "Time:                        14:04:52   Log-Likelihood:                -292.98\n",
       "No. Observations:                  26   AIC:                             592.0\n",
       "Df Residuals:                      23   BIC:                             595.7\n",
       "Df Model:                           2                                         \n",
       "Covariance Type:            nonrobust                                         \n",
       "==============================================================================\n",
       "                 coef    std err          t      P>|t|      [95.0% Conf. Int.]\n",
       "------------------------------------------------------------------------------\n",
       "Intercept   1030.8976   1.21e+04      0.086      0.933     -2.39e+04   2.6e+04\n",
       "incomePC     334.3652    164.323      2.035      0.054        -5.563   674.293\n",
       "PCx2          -0.8263      0.485     -1.703      0.102        -1.830     0.177\n",
       "==============================================================================\n",
       "Omnibus:                        5.628   Durbin-Watson:                   1.492\n",
       "Prob(Omnibus):                  0.060   Jarque-Bera (JB):                4.379\n",
       "Skew:                           1.002   Prob(JB):                        0.112\n",
       "Kurtosis:                       3.171   Cond. No.                     1.29e+05\n",
       "==============================================================================\n",
       "\n",
       "Warnings:\n",
       "[1] Standard Errors assume that the covariance matrix of the errors is correctly specified.\n",
       "[2] The condition number is large, 1.29e+05. This might indicate that there are\n",
       "strong multicollinearity or other numerical problems.\n",
       "\"\"\""
      ]
     },
     "execution_count": 365,
     "metadata": {},
     "output_type": "execute_result"
    },
    {
     "data": {
      "image/png": "[encoded data removed]",
      "text/plain": [
       "<matplotlib.figure.Figure at 0x7f2a7c0e00d0>"
      ]
     },
     "metadata": {},
     "output_type": "display_data"
    }
   ],
   "source": [
    "cb2.plot.scatter(y=\"Nrides\", x=\"incomePC\", label=\"original data\")\n",
    "pl.title(\"ridership vs IncomePC\", fontsize = 10)\n",
    "regression = smf.ols(\"Nrides ~ incomePC + PCx2\", data=cb2).fit()\n",
    "x_line = np.linspace(0,400,10000)\n",
    "x = pd.DataFrame({\"incomePC\":x_line, \"PCx2\": x_line**2})\n",
    "Y = regression.predict(x)\n",
    "pl.plot(x_line,Y, label=\"fitted line\")\n",
    "pl.legend(loc=\"upper left\")\n",
    "regression.summary()"
   ]
  },
  {
   "cell_type": "markdown",
   "metadata": {},
   "source": [
    "##### Figure.6: 2nd polynomial fit of the plot"
   ]
  },
  {
   "cell_type": "markdown",
   "metadata": {},
   "source": [
    "### 2nd polynimal doesn't make any sense since the rides will become negative, so better choose linear function"
   ]
  },
  {
   "cell_type": "markdown",
   "metadata": {},
   "source": [
    "## As is shown in the both linear AGI and IncomePC plots, the ridership vs. AGI looks better and R-square is larger, so it fits the training data better. Judging from the fitting, and combined the data from 2016,  we can say that :\n",
    "## Citibike ridetrips in each zip code grows in linear relationship with Adjusted gross income in that zip code"
   ]
  },
  {
   "cell_type": "markdown",
   "metadata": {},
   "source": [
    "### The reason that incomePC is different from the AGI is because income per capital is different from AGI, and population is different for each zip code, so there is no meaning comparing the two."
   ]
  },
  {
   "cell_type": "markdown",
   "metadata": {},
   "source": [
    "### Thus I will compare the population distribution to uniform distribution use ks test and  $\\alpha=0.05$"
   ]
  },
  {
   "cell_type": "markdown",
   "metadata": {},
   "source": [
    "### Null hypothesis: \n",
    "#### population distribution is drawn from uniform distribution\n",
    "### Alternative hypothesis:\n",
    "#### population distribution is different from uniform distribution"
   ]
  },
  {
   "cell_type": "code",
   "execution_count": 369,
   "metadata": {
    "collapsed": true
   },
   "outputs": [],
   "source": [
    "cb2[\"population\"] = cb2.apply(lambda x: x.N+x.join+x.dependents, axis=1)"
   ]
  },
  {
   "cell_type": "code",
   "execution_count": 370,
   "metadata": {
    "collapsed": true
   },
   "outputs": [],
   "source": [
    "mean = mean(cb2.population)"
   ]
  },
  {
   "cell_type": "code",
   "execution_count": 371,
   "metadata": {
    "collapsed": false
   },
   "outputs": [
    {
     "data": {
      "text/plain": [
       "28922.307692307691"
      ]
     },
     "execution_count": 371,
     "metadata": {},
     "output_type": "execute_result"
    }
   ],
   "source": [
    "mean"
   ]
  },
  {
   "cell_type": "code",
   "execution_count": 373,
   "metadata": {
    "collapsed": false
   },
   "outputs": [
    {
     "data": {
      "text/plain": [
       "KstestResult(statistic=0.53846153846153844, pvalue=1.4002379900013295e-07)"
      ]
     },
     "execution_count": 373,
     "metadata": {},
     "output_type": "execute_result"
    }
   ],
   "source": [
    "kstest(cb2.population, \"uniform\", args=(mean,1))"
   ]
  },
  {
   "cell_type": "markdown",
   "metadata": {},
   "source": [
    "### we can reject the null hypothesis depending on the test result, and population distribution is not uniform for each zip code, so there is no reason that fit for AGI and incomePC should be similar."
   ]
  }
 ],
 "metadata": {
  "kernelspec": {
   "display_name": "PUI2016_Python2",
   "language": "python",
   "name": "pui2016_python2"
  },
  "language_info": {
   "codemirror_mode": {
    "name": "ipython",
    "version": 2
   },
   "file_extension": ".py",
   "mimetype": "text/x-python",
   "name": "python",
   "nbconvert_exporter": "python",
   "pygments_lexer": "ipython2",
   "version": "2.7.12"
  }
 },
 "nbformat": 4,
 "nbformat_minor": 0
}
